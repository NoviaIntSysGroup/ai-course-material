{
 "cells": [
  {
   "cell_type": "code",
   "execution_count": null,
   "metadata": {
    "colab": {
     "base_uri": "https://localhost:8080/"
    },
    "id": "i5RlLnbBtCET",
    "outputId": "c4b6a5d2-bcd4-415f-90eb-1dd04d730af7"
   },
   "outputs": [],
   "source": [
    "import io\n",
    "import os\n",
    "import torch\n",
    "import numpy as np\n",
    "import torchvision.transforms as T\n",
    "import matplotlib.pyplot as plt\n",
    "from PIL import Image\n",
    "from tqdm.notebook import tqdm\n",
    "\n",
    "# Install an older version of bing_image_downloader\n",
    "# The latest version is broken and return non related images\n",
    "!pip install bing_image_downloader==1.0.4\n",
    "from bing_image_downloader import downloader"
   ]
  },
  {
   "cell_type": "markdown",
   "metadata": {
    "id": "f1u8E55ZunOS"
   },
   "source": [
    "### Configuration"
   ]
  },
  {
   "cell_type": "code",
   "execution_count": null,
   "metadata": {
    "colab": {
     "base_uri": "https://localhost:8080/"
    },
    "id": "_Tq2tdB9WTJG",
    "outputId": "eadf0be8-0782-4b2c-8882-7e5a923bb4c0"
   },
   "outputs": [],
   "source": [
    "# Determine how many images of each class that you want to download\n",
    "n_images_per_class = 4\n",
    "# Give a name for the direcotry where images are to be stored\n",
    "data_path= 'image_data'\n",
    "print('Saving images to: {:s}'.format(data_path))\n",
    "\n",
    "# Give search queries for the classes you want to get pictures of\n",
    "quaries = ['trains', 'airplanes', 'cars road', 'ships']"
   ]
  },
  {
   "cell_type": "markdown",
   "metadata": {
    "id": "4WcyK14yuwEN"
   },
   "source": [
    "### Download images"
   ]
  },
  {
   "cell_type": "code",
   "execution_count": null,
   "metadata": {
    "colab": {
     "base_uri": "https://localhost:8080/"
    },
    "id": "bMN0qMZHWXEN",
    "outputId": "6f136ed7-0eff-4877-b1b2-c5d4a47c77a7"
   },
   "outputs": [],
   "source": [
    "# ONLY RUN THIS CELL IF YOU WANT TO DOWNLOAD NEW IMAGES!!!\n",
    "\n",
    "# Create the data direcotry if it does not exist\n",
    "if not os.path.exists(data_path):\n",
    "  os.makedirs(data_path)\n",
    "\n",
    "# Download images for each query\n",
    "for quary in quaries:\n",
    "  downloader.download(quary,\n",
    "                      limit=n_images_per_class,\n",
    "                      output_dir=data_path,\n",
    "                      adult_filter_off=True,\n",
    "                      force_replace=False,\n",
    "                      timeout=5)"
   ]
  },
  {
   "cell_type": "markdown",
   "metadata": {
    "id": "o5fa7Ngsu2Sz"
   },
   "source": [
    "### Visualize the dowloaded dataset"
   ]
  },
  {
   "cell_type": "code",
   "execution_count": null,
   "metadata": {
    "colab": {
     "base_uri": "https://localhost:8080/",
     "height": 806
    },
    "id": "2dIsY54ZWkYO",
    "outputId": "af49be34-897c-4b4e-969c-29d546f5f1b7"
   },
   "outputs": [],
   "source": [
    "# Define the number of classes based on the number of quaries\n",
    "n_classes = len(quaries)\n",
    "\n",
    "# Create a matplotlib figure window\n",
    "fig = plt.figure(figsize=[15, 10])\n",
    "# Loop over all classes\n",
    "for row in range(n_classes):\n",
    "  # List all the files in the class directory\n",
    "  class_dir_path = os.path.join(data_path, quaries[row])\n",
    "  files = os.listdir(class_dir_path)\n",
    "  n_examples = len(files)\n",
    "  for col in range(min(n_examples, 4)):\n",
    "    # Create a subplot axes\n",
    "    plt.subplot(n_classes, n_examples, row*n_examples+col+1)\n",
    "    # Open the image\n",
    "    img = Image.open(os.path.join(class_dir_path, files[col]))\n",
    "    # Resize the image\n",
    "    img.thumbnail([200, 200])\n",
    "    # Plot the image\n",
    "    plt.imshow(img)\n",
    "    # Remove ticks\n",
    "    fig.gca().set(xticks=[], yticks=[])"
   ]
  },
  {
   "cell_type": "markdown",
   "metadata": {
    "id": "xDlAaq08u9C-"
   },
   "source": [
    "### Download the DINOv2 model"
   ]
  },
  {
   "cell_type": "code",
   "execution_count": null,
   "metadata": {
    "colab": {
     "base_uri": "https://localhost:8080/"
    },
    "id": "jeA90irYhtX8",
    "outputId": "e39e683c-8656-48f8-b90e-d263603d3ccd"
   },
   "outputs": [],
   "source": [
    "# Download the the DINOv2 embedding model\n",
    "embedding_model = torch.hub.load('facebookresearch/dinov2', 'dinov2_vitb14_lc')\n",
    "# Check if we have a GPU available otherwise use the CPU\n",
    "device = torch.device('cuda' if torch.cuda.is_available() else \"cpu\")\n",
    "# Move the model to the GPU if we have one\n",
    "embedding_model.to(device);"
   ]
  },
  {
   "cell_type": "markdown",
   "metadata": {
    "id": "fq_o6WdcvA69"
   },
   "source": [
    "### Define some useful functions for computing embeddings"
   ]
  },
  {
   "cell_type": "code",
   "execution_count": null,
   "metadata": {
    "id": "DRJY233LuHKr"
   },
   "outputs": [],
   "source": [
    "# Define image transforms\n",
    "transform_image = T.Compose([\n",
    "    T.ToTensor(),\n",
    "    T.Resize(224, antialias=True),\n",
    "    T.CenterCrop(224),\n",
    "    T.Normalize([0.5], [0.5])]\n",
    ")\n",
    "\n",
    "def get_img_paths(data_path):\n",
    "  \"\"\"\n",
    "  Get image paths to all images that were downloaded\n",
    "  \"\"\"\n",
    "  img_paths = []\n",
    "  for folder in os.listdir(data_path):\n",
    "      for file in os.listdir(os.path.join(data_path, folder)):\n",
    "          if file[-4:] in [\".jpg\", \"jpeg\", \".JPG\", \".png\"]:\n",
    "              img_paths.append(os.path.join(data_path, folder, file))\n",
    "\n",
    "  return img_paths\n",
    "\n",
    "def load_image(img: str) -> torch.Tensor:\n",
    "  \"\"\"\n",
    "  Load an image and return a tensor that can be used as an input to DINOv2.\n",
    "  \"\"\"\n",
    "  if isinstance(img, str):\n",
    "    img = Image.open(img).convert('RGB')\n",
    "  else:\n",
    "    img = Image.open(io.BytesIO(img)).convert('RGB')\n",
    "  transformed_img = transform_image(img)[:3].unsqueeze(0)\n",
    "  return transformed_img\n",
    "\n",
    "def compute_embedding(img):\n",
    "  \"\"\"\n",
    "  Compute the embedding for an image\n",
    "  \"\"\"\n",
    "  with torch.no_grad():\n",
    "    embedding = embedding_model(load_image(img).to(device))\n",
    "    embedding = embedding.cpu().numpy()\n",
    "  return embedding\n",
    "\n",
    "def create_dataset(img_paths: list) -> dict:\n",
    "  \"\"\"\n",
    "  Get embeddings and labels for a list of image paths\n",
    "  \"\"\"\n",
    "  all_embeddings = []\n",
    "  all_labels = []\n",
    "\n",
    "  for i, img_path in enumerate(tqdm(img_paths)):\n",
    "    all_labels.append(img_path.split(os.path.sep)[-2].split(' ')[0])\n",
    "    all_embeddings.append(compute_embedding(img_path))\n",
    "\n",
    "  all_embeddings = np.vstack(all_embeddings)\n",
    "  return all_embeddings, all_labels\n"
   ]
  },
  {
   "cell_type": "markdown",
   "metadata": {
    "id": "hxBRXtwTvIfR"
   },
   "source": [
    "### Compute the embeddings for our dpwnloaded image dataset"
   ]
  },
  {
   "cell_type": "code",
   "execution_count": null,
   "metadata": {
    "colab": {
     "base_uri": "https://localhost:8080/",
     "height": 49,
     "referenced_widgets": [
      "007ff22063574c14a3b921250b140fc2",
      "367a04772c604da2b6c690fb1b387a25",
      "dd77e0964a5847ce89e2c17acadef39e",
      "689044c424604a4e8b71fba3607ebad8",
      "d45f27a7781749aa99156e07b9d9112e",
      "838c5edebfa3436eac9e68711ac33e63",
      "f9f21517872a49aa87c36a79e5e3f5c4",
      "b805658880664b2bb935f71c27702c97",
      "e37d2aa380904e05bd157c30d811dca6",
      "8885132bd31943ee827ecbda1a1f59c6",
      "5502749649954443a1ef4fac34b6e89f"
     ]
    },
    "id": "rry_IOY0eaGe",
    "outputId": "4ec380c4-cbc1-4e31-d991-480425baed5d"
   },
   "outputs": [],
   "source": [
    "img_paths = get_img_paths(data_path)\n",
    "embeddings, labels = create_dataset(img_paths)"
   ]
  },
  {
   "cell_type": "markdown",
   "metadata": {
    "id": "lklWpNBtvOK6"
   },
   "source": [
    "### Test how well a simple nearest neighbor classifier works"
   ]
  },
  {
   "cell_type": "code",
   "execution_count": null,
   "metadata": {
    "colab": {
     "base_uri": "https://localhost:8080/",
     "height": 49,
     "referenced_widgets": [
      "6f3363889e4b44678ccccab6a4d4fabc",
      "bc80f66d3e0e448cbd65e053f9ba69ce",
      "68ce12fcbc4b4f81a282f631876a9492"
     ]
    },
    "id": "C9oyW8XViBsZ",
    "outputId": "89e01595-d619-4b9a-85da-d4f6861f9e99"
   },
   "outputs": [],
   "source": [
    "import ipywidgets as widgets\n",
    "# Use a widget to upload a test image from your computer\n",
    "uploader = widgets.FileUpload()\n",
    "uploader"
   ]
  },
  {
   "cell_type": "code",
   "execution_count": null,
   "metadata": {
    "colab": {
     "base_uri": "https://localhost:8080/",
     "height": 438
    },
    "id": "mFW8gqw_jnpp",
    "outputId": "61f71a15-d0d5-4e68-fcf0-8f6c4a19e57c"
   },
   "outputs": [],
   "source": [
    "# Compute the embedding for the test image\n",
    "query_embedding = compute_embedding(uploader.data[0])\n",
    "# Check distances to the embeddings for all images in the dataset\n",
    "distances = np.sqrt(np.sum((embeddings - query_embedding)**2, 1))\n",
    "# Assign the label based on the label of most similar image in the dataset\n",
    "predicted_class = labels[np.argmin(distances)]\n",
    "\n",
    "# Print the results\n",
    "print('The predicted label is: {:s}'.format(predicted_class))\n",
    "image = Image.open(io.BytesIO(uploader.data[0]))\n",
    "image"
   ]
  }
 ],
 "metadata": {
  "accelerator": "GPU",
  "colab": {
   "gpuType": "T4",
   "provenance": []
  },
  "kernelspec": {
   "display_name": "Python 3",
   "language": "python",
   "name": "python3"
  },
  "language_info": {
   "codemirror_mode": {
    "name": "ipython",
    "version": 3
   },
   "file_extension": ".py",
   "mimetype": "text/x-python",
   "name": "python",
   "nbconvert_exporter": "python",
   "pygments_lexer": "ipython3",
   "version": "3.8.8"
  },
  "widgets": {
   "application/vnd.jupyter.widget-state+json": {
    "007ff22063574c14a3b921250b140fc2": {
     "model_module": "@jupyter-widgets/controls",
     "model_module_version": "1.5.0",
     "model_name": "HBoxModel",
     "state": {
      "_dom_classes": [],
      "_model_module": "@jupyter-widgets/controls",
      "_model_module_version": "1.5.0",
      "_model_name": "HBoxModel",
      "_view_count": null,
      "_view_module": "@jupyter-widgets/controls",
      "_view_module_version": "1.5.0",
      "_view_name": "HBoxView",
      "box_style": "",
      "children": [
       "IPY_MODEL_367a04772c604da2b6c690fb1b387a25",
       "IPY_MODEL_dd77e0964a5847ce89e2c17acadef39e",
       "IPY_MODEL_689044c424604a4e8b71fba3607ebad8"
      ],
      "layout": "IPY_MODEL_d45f27a7781749aa99156e07b9d9112e"
     }
    },
    "367a04772c604da2b6c690fb1b387a25": {
     "model_module": "@jupyter-widgets/controls",
     "model_module_version": "1.5.0",
     "model_name": "HTMLModel",
     "state": {
      "_dom_classes": [],
      "_model_module": "@jupyter-widgets/controls",
      "_model_module_version": "1.5.0",
      "_model_name": "HTMLModel",
      "_view_count": null,
      "_view_module": "@jupyter-widgets/controls",
      "_view_module_version": "1.5.0",
      "_view_name": "HTMLView",
      "description": "",
      "description_tooltip": null,
      "layout": "IPY_MODEL_838c5edebfa3436eac9e68711ac33e63",
      "placeholder": "​",
      "style": "IPY_MODEL_f9f21517872a49aa87c36a79e5e3f5c4",
      "value": "100%"
     }
    },
    "5502749649954443a1ef4fac34b6e89f": {
     "model_module": "@jupyter-widgets/controls",
     "model_module_version": "1.5.0",
     "model_name": "DescriptionStyleModel",
     "state": {
      "_model_module": "@jupyter-widgets/controls",
      "_model_module_version": "1.5.0",
      "_model_name": "DescriptionStyleModel",
      "_view_count": null,
      "_view_module": "@jupyter-widgets/base",
      "_view_module_version": "1.2.0",
      "_view_name": "StyleView",
      "description_width": ""
     }
    },
    "689044c424604a4e8b71fba3607ebad8": {
     "model_module": "@jupyter-widgets/controls",
     "model_module_version": "1.5.0",
     "model_name": "HTMLModel",
     "state": {
      "_dom_classes": [],
      "_model_module": "@jupyter-widgets/controls",
      "_model_module_version": "1.5.0",
      "_model_name": "HTMLModel",
      "_view_count": null,
      "_view_module": "@jupyter-widgets/controls",
      "_view_module_version": "1.5.0",
      "_view_name": "HTMLView",
      "description": "",
      "description_tooltip": null,
      "layout": "IPY_MODEL_8885132bd31943ee827ecbda1a1f59c6",
      "placeholder": "​",
      "style": "IPY_MODEL_5502749649954443a1ef4fac34b6e89f",
      "value": " 16/16 [00:01&lt;00:00,  6.21it/s]"
     }
    },
    "68ce12fcbc4b4f81a282f631876a9492": {
     "model_module": "@jupyter-widgets/controls",
     "model_module_version": "1.5.0",
     "model_name": "ButtonStyleModel",
     "state": {
      "_model_module": "@jupyter-widgets/controls",
      "_model_module_version": "1.5.0",
      "_model_name": "ButtonStyleModel",
      "_view_count": null,
      "_view_module": "@jupyter-widgets/base",
      "_view_module_version": "1.2.0",
      "_view_name": "StyleView",
      "button_color": null,
      "font_weight": ""
     }
    },
    "6f3363889e4b44678ccccab6a4d4fabc": {
     "model_module": "@jupyter-widgets/controls",
     "model_module_version": "1.5.0",
     "model_name": "FileUploadModel",
     "state": {
      "_counter": 8,
      "_dom_classes": [],
      "_model_module": "@jupyter-widgets/controls",
      "_model_module_version": "1.5.0",
      "_model_name": "FileUploadModel",
      "_view_count": null,
      "_view_module": "@jupyter-widgets/controls",
      "_view_module_version": "1.5.0",
      "_view_name": "FileUploadView",
      "accept": "",
      "button_style": "",
      "data": [
       null
      ],
      "description": "Upload",
      "description_tooltip": null,
      "disabled": false,
      "error": "",
      "icon": "upload",
      "layout": "IPY_MODEL_bc80f66d3e0e448cbd65e053f9ba69ce",
      "metadata": [
       {
        "lastModified": 1678906996175,
        "name": "train2.jpg",
        "size": 68303,
        "type": "image/jpeg"
       }
      ],
      "multiple": false,
      "style": "IPY_MODEL_68ce12fcbc4b4f81a282f631876a9492"
     }
    },
    "838c5edebfa3436eac9e68711ac33e63": {
     "model_module": "@jupyter-widgets/base",
     "model_module_version": "1.2.0",
     "model_name": "LayoutModel",
     "state": {
      "_model_module": "@jupyter-widgets/base",
      "_model_module_version": "1.2.0",
      "_model_name": "LayoutModel",
      "_view_count": null,
      "_view_module": "@jupyter-widgets/base",
      "_view_module_version": "1.2.0",
      "_view_name": "LayoutView",
      "align_content": null,
      "align_items": null,
      "align_self": null,
      "border": null,
      "bottom": null,
      "display": null,
      "flex": null,
      "flex_flow": null,
      "grid_area": null,
      "grid_auto_columns": null,
      "grid_auto_flow": null,
      "grid_auto_rows": null,
      "grid_column": null,
      "grid_gap": null,
      "grid_row": null,
      "grid_template_areas": null,
      "grid_template_columns": null,
      "grid_template_rows": null,
      "height": null,
      "justify_content": null,
      "justify_items": null,
      "left": null,
      "margin": null,
      "max_height": null,
      "max_width": null,
      "min_height": null,
      "min_width": null,
      "object_fit": null,
      "object_position": null,
      "order": null,
      "overflow": null,
      "overflow_x": null,
      "overflow_y": null,
      "padding": null,
      "right": null,
      "top": null,
      "visibility": null,
      "width": null
     }
    },
    "8885132bd31943ee827ecbda1a1f59c6": {
     "model_module": "@jupyter-widgets/base",
     "model_module_version": "1.2.0",
     "model_name": "LayoutModel",
     "state": {
      "_model_module": "@jupyter-widgets/base",
      "_model_module_version": "1.2.0",
      "_model_name": "LayoutModel",
      "_view_count": null,
      "_view_module": "@jupyter-widgets/base",
      "_view_module_version": "1.2.0",
      "_view_name": "LayoutView",
      "align_content": null,
      "align_items": null,
      "align_self": null,
      "border": null,
      "bottom": null,
      "display": null,
      "flex": null,
      "flex_flow": null,
      "grid_area": null,
      "grid_auto_columns": null,
      "grid_auto_flow": null,
      "grid_auto_rows": null,
      "grid_column": null,
      "grid_gap": null,
      "grid_row": null,
      "grid_template_areas": null,
      "grid_template_columns": null,
      "grid_template_rows": null,
      "height": null,
      "justify_content": null,
      "justify_items": null,
      "left": null,
      "margin": null,
      "max_height": null,
      "max_width": null,
      "min_height": null,
      "min_width": null,
      "object_fit": null,
      "object_position": null,
      "order": null,
      "overflow": null,
      "overflow_x": null,
      "overflow_y": null,
      "padding": null,
      "right": null,
      "top": null,
      "visibility": null,
      "width": null
     }
    },
    "b805658880664b2bb935f71c27702c97": {
     "model_module": "@jupyter-widgets/base",
     "model_module_version": "1.2.0",
     "model_name": "LayoutModel",
     "state": {
      "_model_module": "@jupyter-widgets/base",
      "_model_module_version": "1.2.0",
      "_model_name": "LayoutModel",
      "_view_count": null,
      "_view_module": "@jupyter-widgets/base",
      "_view_module_version": "1.2.0",
      "_view_name": "LayoutView",
      "align_content": null,
      "align_items": null,
      "align_self": null,
      "border": null,
      "bottom": null,
      "display": null,
      "flex": null,
      "flex_flow": null,
      "grid_area": null,
      "grid_auto_columns": null,
      "grid_auto_flow": null,
      "grid_auto_rows": null,
      "grid_column": null,
      "grid_gap": null,
      "grid_row": null,
      "grid_template_areas": null,
      "grid_template_columns": null,
      "grid_template_rows": null,
      "height": null,
      "justify_content": null,
      "justify_items": null,
      "left": null,
      "margin": null,
      "max_height": null,
      "max_width": null,
      "min_height": null,
      "min_width": null,
      "object_fit": null,
      "object_position": null,
      "order": null,
      "overflow": null,
      "overflow_x": null,
      "overflow_y": null,
      "padding": null,
      "right": null,
      "top": null,
      "visibility": null,
      "width": null
     }
    },
    "bc80f66d3e0e448cbd65e053f9ba69ce": {
     "model_module": "@jupyter-widgets/base",
     "model_module_version": "1.2.0",
     "model_name": "LayoutModel",
     "state": {
      "_model_module": "@jupyter-widgets/base",
      "_model_module_version": "1.2.0",
      "_model_name": "LayoutModel",
      "_view_count": null,
      "_view_module": "@jupyter-widgets/base",
      "_view_module_version": "1.2.0",
      "_view_name": "LayoutView",
      "align_content": null,
      "align_items": null,
      "align_self": null,
      "border": null,
      "bottom": null,
      "display": null,
      "flex": null,
      "flex_flow": null,
      "grid_area": null,
      "grid_auto_columns": null,
      "grid_auto_flow": null,
      "grid_auto_rows": null,
      "grid_column": null,
      "grid_gap": null,
      "grid_row": null,
      "grid_template_areas": null,
      "grid_template_columns": null,
      "grid_template_rows": null,
      "height": null,
      "justify_content": null,
      "justify_items": null,
      "left": null,
      "margin": null,
      "max_height": null,
      "max_width": null,
      "min_height": null,
      "min_width": null,
      "object_fit": null,
      "object_position": null,
      "order": null,
      "overflow": null,
      "overflow_x": null,
      "overflow_y": null,
      "padding": null,
      "right": null,
      "top": null,
      "visibility": null,
      "width": null
     }
    },
    "d45f27a7781749aa99156e07b9d9112e": {
     "model_module": "@jupyter-widgets/base",
     "model_module_version": "1.2.0",
     "model_name": "LayoutModel",
     "state": {
      "_model_module": "@jupyter-widgets/base",
      "_model_module_version": "1.2.0",
      "_model_name": "LayoutModel",
      "_view_count": null,
      "_view_module": "@jupyter-widgets/base",
      "_view_module_version": "1.2.0",
      "_view_name": "LayoutView",
      "align_content": null,
      "align_items": null,
      "align_self": null,
      "border": null,
      "bottom": null,
      "display": null,
      "flex": null,
      "flex_flow": null,
      "grid_area": null,
      "grid_auto_columns": null,
      "grid_auto_flow": null,
      "grid_auto_rows": null,
      "grid_column": null,
      "grid_gap": null,
      "grid_row": null,
      "grid_template_areas": null,
      "grid_template_columns": null,
      "grid_template_rows": null,
      "height": null,
      "justify_content": null,
      "justify_items": null,
      "left": null,
      "margin": null,
      "max_height": null,
      "max_width": null,
      "min_height": null,
      "min_width": null,
      "object_fit": null,
      "object_position": null,
      "order": null,
      "overflow": null,
      "overflow_x": null,
      "overflow_y": null,
      "padding": null,
      "right": null,
      "top": null,
      "visibility": null,
      "width": null
     }
    },
    "dd77e0964a5847ce89e2c17acadef39e": {
     "model_module": "@jupyter-widgets/controls",
     "model_module_version": "1.5.0",
     "model_name": "FloatProgressModel",
     "state": {
      "_dom_classes": [],
      "_model_module": "@jupyter-widgets/controls",
      "_model_module_version": "1.5.0",
      "_model_name": "FloatProgressModel",
      "_view_count": null,
      "_view_module": "@jupyter-widgets/controls",
      "_view_module_version": "1.5.0",
      "_view_name": "ProgressView",
      "bar_style": "success",
      "description": "",
      "description_tooltip": null,
      "layout": "IPY_MODEL_b805658880664b2bb935f71c27702c97",
      "max": 16,
      "min": 0,
      "orientation": "horizontal",
      "style": "IPY_MODEL_e37d2aa380904e05bd157c30d811dca6",
      "value": 16
     }
    },
    "e37d2aa380904e05bd157c30d811dca6": {
     "model_module": "@jupyter-widgets/controls",
     "model_module_version": "1.5.0",
     "model_name": "ProgressStyleModel",
     "state": {
      "_model_module": "@jupyter-widgets/controls",
      "_model_module_version": "1.5.0",
      "_model_name": "ProgressStyleModel",
      "_view_count": null,
      "_view_module": "@jupyter-widgets/base",
      "_view_module_version": "1.2.0",
      "_view_name": "StyleView",
      "bar_color": null,
      "description_width": ""
     }
    },
    "f9f21517872a49aa87c36a79e5e3f5c4": {
     "model_module": "@jupyter-widgets/controls",
     "model_module_version": "1.5.0",
     "model_name": "DescriptionStyleModel",
     "state": {
      "_model_module": "@jupyter-widgets/controls",
      "_model_module_version": "1.5.0",
      "_model_name": "DescriptionStyleModel",
      "_view_count": null,
      "_view_module": "@jupyter-widgets/base",
      "_view_module_version": "1.2.0",
      "_view_name": "StyleView",
      "description_width": ""
     }
    }
   }
  }
 },
 "nbformat": 4,
 "nbformat_minor": 1
}
