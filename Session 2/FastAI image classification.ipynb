{
 "cells": [
  {
   "cell_type": "markdown",
   "metadata": {
    "id": "ODVegr16AUXt"
   },
   "source": [
    "This notebook uses FastAI to simplify the steps needed to create a state-of-the-art image classifier. REMEMBER to change the runtime type so as to add hardware acceleration (GPU or TPU) if you are using Colab."
   ]
  },
  {
   "cell_type": "code",
   "execution_count": null,
   "metadata": {
    "colab": {
     "base_uri": "https://localhost:8080/"
    },
    "id": "fB1hIxMDePtJ",
    "outputId": "39948f95-b95c-4074-a2b1-56bd88efd090"
   },
   "outputs": [],
   "source": [
    "import os\n",
    "import PIL\n",
    "import numpy as np\n",
    "import matplotlib.pyplot as plt\n",
    "import ipywidgets as widgets\n",
    "\n",
    "# Use FastAI\n",
    "# upgrade first, Colab uses an old version by default\n",
    "!pip install fastai --upgrade -q  \n",
    "from fastai.vision.all import *\n",
    "\n",
    "# Install an older version of bing_image_downloader\n",
    "# The latest version is broken and return non related images\n",
    "!pip install bing_image_downloader==1.0.4\n",
    "from bing_image_downloader import downloader\n",
    "\n",
    "# You can also mount your google drive if you want to store \n",
    "# data directly to it (no need to download new images every time)\n",
    "from google.colab import drive\n",
    "drive.mount('/content/drive')\n",
    "\n",
    "# Keeps the kernel from dying in notebooks on Windows machines (not needed in Colab)\n",
    "#import os\n",
    "#os.environ['KMP_DUPLICATE_LIB_OK']='True'"
   ]
  },
  {
   "cell_type": "markdown",
   "metadata": {
    "id": "SCi8qROBAoUv"
   },
   "source": [
    "### Download a dataset of your choice using Bing image search"
   ]
  },
  {
   "cell_type": "code",
   "execution_count": null,
   "metadata": {
    "colab": {
     "base_uri": "https://localhost:8080/"
    },
    "id": "qtK4huE6eY0e",
    "outputId": "9af56293-1207-4af5-9208-1f4d7a2b0549"
   },
   "outputs": [],
   "source": [
    "# Determine how many images of each class that you want to download\n",
    "n_images_per_class = 100\n",
    "# Give a name for the direcotry where images are to be stored\n",
    "data_dir= 'image_data'\n",
    "\n",
    "# Add the Google drive extension if your drive is mapped\n",
    "if os.path.exists('drive'):\n",
    "    data_path = 'drive/MyDrive/' + data_dir\n",
    "else:\n",
    "    data_path = data_dir\n",
    "print('Saving images to: {:s}'.format(data_path))\n",
    "\n",
    "# Give search queries for the classes you want to get pictures of\n",
    "quaries = ['trains', 'airplanes', 'cars', 'ships']"
   ]
  },
  {
   "cell_type": "code",
   "execution_count": null,
   "metadata": {},
   "outputs": [],
   "source": [
    "# ONLY RUN THIS CELL IF YOU WANT TO DOWNLOAD NEW IMAGES!!!\n",
    "\n",
    "# Create the data direcotry if it does not exist\n",
    "if not os.path.exists(data_path):\n",
    "    os.makedirs(data_path)\n",
    "    \n",
    "# Download images for each query\n",
    "for quary in quaries:\n",
    "    downloader.download(quary, \n",
    "                        limit=n_images_per_class,  \n",
    "                        output_dir=data_path, \n",
    "                        adult_filter_off=True, \n",
    "                        force_replace=False, \n",
    "                        timeout=5)"
   ]
  },
  {
   "cell_type": "markdown",
   "metadata": {
    "id": "nSEoiWYsA29a"
   },
   "source": [
    "### Show examples of the downloaded images for each class"
   ]
  },
  {
   "cell_type": "code",
   "execution_count": null,
   "metadata": {
    "colab": {
     "base_uri": "https://localhost:8080/",
     "height": 573
    },
    "id": "SezkVmfLeem5",
    "outputId": "5b359147-716e-45aa-a012-5c5dc7bfd513"
   },
   "outputs": [],
   "source": [
    "# Defien the number of example to show\n",
    "n_examples = 5\n",
    "# Define the number of classes based on the number of quaries\n",
    "n_classes = len(quaries)\n",
    "\n",
    "# Create a matplotlib figure window\n",
    "fig = plt.figure(figsize=[15, 10])\n",
    "# Loop over all classes \n",
    "for row in range(n_classes):\n",
    "    # List all the files in the class directory\n",
    "    class_dir_path = data_path + '/' + quaries[row]\n",
    "    files = os.listdir(class_dir_path)\n",
    "    # Loop over the first n_example images\n",
    "    for col in range(n_examples):\n",
    "        # Create a subplot axes\n",
    "        plt.subplot(n_classes, n_examples, row*n_examples+col+1)\n",
    "        # Open the image\n",
    "        img = PIL.Image.open(class_dir_path+'/'+files[col])\n",
    "        # Resize the image\n",
    "        img.thumbnail([200, 200])\n",
    "        # Plot the image\n",
    "        plt.imshow(img)\n",
    "        # Remove ticks\n",
    "        fig.gca().set(xticks=[], yticks=[])"
   ]
  },
  {
   "cell_type": "markdown",
   "metadata": {
    "id": "Szql-9UoCh61"
   },
   "source": [
    "### Define a FastAI data block and dataloaders for the data we downloaded"
   ]
  },
  {
   "cell_type": "code",
   "execution_count": null,
   "metadata": {
    "colab": {
     "base_uri": "https://localhost:8080/",
     "height": 369
    },
    "id": "XE9j7Ha2j0a2",
    "outputId": "acb5900f-c5db-452e-b3c2-c31249413d0e"
   },
   "outputs": [],
   "source": [
    "# Define the data block\n",
    "img_classes = DataBlock(blocks=(ImageBlock, CategoryBlock),               # Classification task: image data and category labels\n",
    "                        get_items=get_image_files,                        # Function for converting file path to image data\n",
    "                        splitter=RandomSplitter(valid_pct=0.25, seed=1),  # Validation data fraction\n",
    "                        get_y=parent_label,                               # Use the direcotry name as the class label\n",
    "                        item_tfms=Resize(224))                            # Resize images to sizexsize\n",
    "\n",
    "# Create dataloaders from the data block\n",
    "dls = img_classes.dataloaders(data_path)\n",
    "\n",
    "# Visualize training images\n",
    "dls.train.show_batch(max_n=10, nrows=2, unique=False)\n",
    "# Try to define a smaller batch_size if you get an error\n",
    "#dls.train.show_batch(max_n=10, nrows=2, unique=False, batch_size=8)"
   ]
  },
  {
   "cell_type": "markdown",
   "metadata": {
    "id": "IGuCinTdDRrm"
   },
   "source": [
    "### Use augmentation to artificially grow our data set"
   ]
  },
  {
   "cell_type": "code",
   "execution_count": null,
   "metadata": {
    "colab": {
     "base_uri": "https://localhost:8080/",
     "height": 369
    },
    "id": "gS31vUhF1dzS",
    "outputId": "2c2036d6-2deb-4a16-d271-c2b9b91e5158"
   },
   "outputs": [],
   "source": [
    "# Create a new data block from the old one with default\n",
    "# FastAI augmentation transforms.\n",
    "img_classes = img_classes.new(item_tfms=Resize(224), \n",
    "                              batch_tfms=aug_transforms())\n",
    "\n",
    "# Create new dataloaders from the new data block\n",
    "dls = img_classes.dataloaders(data_path)\n",
    "# Show augmented example images\n",
    "dls.train.show_batch(max_n=10, nrows=2, unique=True)"
   ]
  },
  {
   "cell_type": "markdown",
   "metadata": {
    "id": "gzl79WT8D4-S"
   },
   "source": [
    "### Fine tune an existing state-of-the-art network (transfer learning)"
   ]
  },
  {
   "cell_type": "code",
   "execution_count": null,
   "metadata": {
    "colab": {
     "base_uri": "https://localhost:8080/",
     "height": 239
    },
    "id": "WL73DDt_1rGC",
    "outputId": "5a7c81a9-2b3a-41e1-dbda-531033464ba2"
   },
   "outputs": [],
   "source": [
    "# Load a pretrained network (resnet18)\n",
    "learn = cnn_learner(dls, resnet18, metrics=error_rate)\n",
    "# Fine tune the parameters of the network\n",
    "learn.fine_tune(3)"
   ]
  },
  {
   "cell_type": "code",
   "execution_count": null,
   "metadata": {
    "colab": {
     "base_uri": "https://localhost:8080/",
     "height": 311
    },
    "id": "NAYbwX_E46A4",
    "outputId": "0bbaf136-64df-4922-9569-bda3ff32e618"
   },
   "outputs": [],
   "source": [
    "# Evaluate the results on the validation set\n",
    "interp = ClassificationInterpretation.from_learner(learn)\n",
    "# by for example plotting the confusion matrix\n",
    "interp.plot_confusion_matrix()"
   ]
  },
  {
   "cell_type": "markdown",
   "metadata": {
    "id": "T0Ovw1d2EWr5"
   },
   "source": [
    "### Test the fine tuned network using new test images"
   ]
  },
  {
   "cell_type": "code",
   "execution_count": null,
   "metadata": {
    "colab": {
     "base_uri": "https://localhost:8080/",
     "height": 49,
     "referenced_widgets": [
      "3ac2885146b346b2a3803452fbbd1e57",
      "d000badc02c849ee838ed1b83990b2a7",
      "e0e909c6e1484d06b44e5589f478a107"
     ]
    },
    "id": "cMV05K_c5w1f",
    "outputId": "96dba518-5d09-4b58-b9f0-3dd97c5a9f5c"
   },
   "outputs": [],
   "source": [
    "# Use a widget to upload a test image from your computer\n",
    "uploader = widgets.FileUpload()\n",
    "uploader"
   ]
  },
  {
   "cell_type": "code",
   "execution_count": null,
   "metadata": {
    "colab": {
     "base_uri": "https://localhost:8080/",
     "height": 352
    },
    "id": "AaqYv1ehEgdH",
    "outputId": "6a1cd4a5-ef67-487a-85f3-e68f5c7c571f"
   },
   "outputs": [],
   "source": [
    "# Create a PIL image object that can be fed our network\n",
    "img = PILImage.create(uploader.data[0])\n",
    "\n",
    "# predict the class label and print results\n",
    "predicted_label, _, probs = learn.predict(img)\n",
    "print('The predicted label is: {:s}'.format(predicted_label))\n",
    "print('The estimated probability is: {:2.1f}%'.format(probs.max()*100))\n",
    "# Show the image as well\n",
    "img.to_thumb(400)"
   ]
  }
 ],
 "metadata": {
  "accelerator": "TPU",
  "colab": {
   "collapsed_sections": [],
   "name": "FastAI image classification.ipynb",
   "provenance": []
  },
  "kernelspec": {
   "display_name": "Python 3 (ipykernel)",
   "language": "python",
   "name": "python3"
  },
  "language_info": {
   "codemirror_mode": {
    "name": "ipython",
    "version": 3
   },
   "file_extension": ".py",
   "mimetype": "text/x-python",
   "name": "python",
   "nbconvert_exporter": "python",
   "pygments_lexer": "ipython3",
   "version": "3.9.7"
  },
  "widgets": {
   "application/vnd.jupyter.widget-state+json": {
    "3ac2885146b346b2a3803452fbbd1e57": {
     "model_module": "@jupyter-widgets/controls",
     "model_module_version": "1.5.0",
     "model_name": "FileUploadModel",
     "state": {
      "_counter": 2,
      "_dom_classes": [],
      "_model_module": "@jupyter-widgets/controls",
      "_model_module_version": "1.5.0",
      "_model_name": "FileUploadModel",
      "_view_count": null,
      "_view_module": "@jupyter-widgets/controls",
      "_view_module_version": "1.5.0",
      "_view_name": "FileUploadView",
      "accept": "",
      "button_style": "",
      "data": [
       null
      ],
      "description": "Upload",
      "description_tooltip": null,
      "disabled": false,
      "error": "",
      "icon": "upload",
      "layout": "IPY_MODEL_e0e909c6e1484d06b44e5589f478a107",
      "metadata": [
       {
        "lastModified": 1646900436675,
        "name": "ship_2.jpg",
        "size": 92781,
        "type": "image/jpeg"
       }
      ],
      "multiple": false,
      "style": "IPY_MODEL_d000badc02c849ee838ed1b83990b2a7"
     }
    },
    "d000badc02c849ee838ed1b83990b2a7": {
     "model_module": "@jupyter-widgets/controls",
     "model_module_version": "1.5.0",
     "model_name": "ButtonStyleModel",
     "state": {
      "_model_module": "@jupyter-widgets/controls",
      "_model_module_version": "1.5.0",
      "_model_name": "ButtonStyleModel",
      "_view_count": null,
      "_view_module": "@jupyter-widgets/base",
      "_view_module_version": "1.2.0",
      "_view_name": "StyleView",
      "button_color": null,
      "font_weight": ""
     }
    },
    "e0e909c6e1484d06b44e5589f478a107": {
     "model_module": "@jupyter-widgets/base",
     "model_module_version": "1.2.0",
     "model_name": "LayoutModel",
     "state": {
      "_model_module": "@jupyter-widgets/base",
      "_model_module_version": "1.2.0",
      "_model_name": "LayoutModel",
      "_view_count": null,
      "_view_module": "@jupyter-widgets/base",
      "_view_module_version": "1.2.0",
      "_view_name": "LayoutView",
      "align_content": null,
      "align_items": null,
      "align_self": null,
      "border": null,
      "bottom": null,
      "display": null,
      "flex": null,
      "flex_flow": null,
      "grid_area": null,
      "grid_auto_columns": null,
      "grid_auto_flow": null,
      "grid_auto_rows": null,
      "grid_column": null,
      "grid_gap": null,
      "grid_row": null,
      "grid_template_areas": null,
      "grid_template_columns": null,
      "grid_template_rows": null,
      "height": null,
      "justify_content": null,
      "justify_items": null,
      "left": null,
      "margin": null,
      "max_height": null,
      "max_width": null,
      "min_height": null,
      "min_width": null,
      "object_fit": null,
      "object_position": null,
      "order": null,
      "overflow": null,
      "overflow_x": null,
      "overflow_y": null,
      "padding": null,
      "right": null,
      "top": null,
      "visibility": null,
      "width": null
     }
    }
   }
  }
 },
 "nbformat": 4,
 "nbformat_minor": 1
}
