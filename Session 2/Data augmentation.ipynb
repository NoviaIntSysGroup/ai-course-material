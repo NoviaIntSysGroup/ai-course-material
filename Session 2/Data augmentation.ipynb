{
 "cells": [
  {
   "cell_type": "code",
   "execution_count": null,
   "id": "6f44c14e",
   "metadata": {},
   "outputs": [],
   "source": [
    "import torchvision.transforms as T\n",
    "from torchvision import datasets\n",
    "\n",
    "import numpy as np\n",
    "import matplotlib.pyplot as plt\n",
    "from matplotlib import cm\n",
    "\n",
    "# For presentations purposes only (not needed in Colab)\n",
    "#plt.style.use('notebook.mplstyle')\n",
    "# Keeps the kernel from dying in notebooks on Windows machines (not needed in Colab)\n",
    "#import os\n",
    "#os.environ['KMP_DUPLICATE_LIB_OK']='True'"
   ]
  },
  {
   "cell_type": "code",
   "execution_count": null,
   "id": "8ba11ca5",
   "metadata": {},
   "outputs": [],
   "source": [
    "# Download MNIST data to use as example images\n",
    "# Download the test data set.\n",
    "data = datasets.MNIST(\n",
    "    root=\"data\",\n",
    "    train=False,\n",
    "    download=True,\n",
    "    transform=T.ToTensor(),\n",
    ")"
   ]
  },
  {
   "cell_type": "code",
   "execution_count": null,
   "id": "3fcd95db",
   "metadata": {},
   "outputs": [],
   "source": [
    "# Select one image\n",
    "img = data.data[4]\n",
    "# Define one of the augmentations below to test\n",
    "aug = T.RandomAffine(degrees=(-30, 30), translate=(0.1, 0.1), scale=(0.8, 1.1))\n",
    "#aug = T.RandomHorizontalFlip()\n",
    "#aug = T.RandomVerticalFlip()\n",
    "\n",
    "# Create a figure window\n",
    "fig = plt.figure(figsize=[17, 6])\n",
    "\n",
    "for i in range(10):\n",
    "    \n",
    "    # Create a subplot\n",
    "    ax_tmp = fig.add_subplot(2, 5, i+1)\n",
    "    \n",
    "    # Plot the original example image\n",
    "    if i == 0:\n",
    "        ax_tmp.imshow(img, cmap=cm.Greys_r)\n",
    "        ax_tmp.set(xticks=[], yticks=[], title='Original')\n",
    "    # Plot random augmentations to the image\n",
    "    else:\n",
    "        ax_tmp.imshow(aug(img.reshape(1, 28, 28)).reshape(28, 28), cmap=cm.Greys_r)\n",
    "        ax_tmp.set(xticks=[], yticks=[], title='Random ex. {:d}'.format(i))"
   ]
  }
 ],
 "metadata": {
  "kernelspec": {
   "display_name": "Python 3 (ipykernel)",
   "language": "python",
   "name": "python3"
  },
  "language_info": {
   "codemirror_mode": {
    "name": "ipython",
    "version": 3
   },
   "file_extension": ".py",
   "mimetype": "text/x-python",
   "name": "python",
   "nbconvert_exporter": "python",
   "pygments_lexer": "ipython3",
   "version": "3.9.7"
  }
 },
 "nbformat": 4,
 "nbformat_minor": 5
}
