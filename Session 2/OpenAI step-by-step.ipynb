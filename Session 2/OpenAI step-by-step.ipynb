{
 "cells": [
  {
   "cell_type": "markdown",
   "id": "60856af6",
   "metadata": {},
   "source": [
    "### Step-by-step prompting example"
   ]
  },
  {
   "cell_type": "code",
   "execution_count": null,
   "id": "c58b7850",
   "metadata": {},
   "outputs": [],
   "source": [
    "import os\n",
    "\n",
    "!pip install openai\n",
    "import openai\n",
    "\n",
    "# Used to load the API key when stored locally on your computer (not needed in Colab)\n",
    "# from dotenv import load_dotenv, find_dotenv"
   ]
  },
  {
   "cell_type": "code",
   "execution_count": null,
   "id": "bfe72676",
   "metadata": {},
   "outputs": [],
   "source": [
    "# Option 1: when running on your local computer and \n",
    "# you have the the api key stored in a .env file\n",
    "# dotenv_path = find_dotenv()\n",
    "# load_dotenv(dotenv_path)\n",
    "# api_key = os.environ.get(\"OPENAI_API_KEY\")\n",
    "# Option 2: when running on Colab and just copy paste\n",
    "# the api key into your notebook\n",
    "api_key = \"YOUR_API_KEY\"\n",
    "\n",
    "openai.api_key = api_key"
   ]
  },
  {
   "cell_type": "markdown",
   "id": "7fb209b8",
   "metadata": {},
   "source": [
    "### Try solving a task with one prompt"
   ]
  },
  {
   "cell_type": "code",
   "execution_count": null,
   "id": "1130dd32",
   "metadata": {},
   "outputs": [],
   "source": [
    "prompt = \"\"\"\n",
    "Adan looks at a tree with 10 apples, 5 red, 3 blue, and 2 green. Eve looks at a red apple but then decides to take a green apple, how many red apples are left on the tree?\n",
    "\"\"\"\n",
    "response = openai.Completion.create(\n",
    "              model=\"text-davinci-003\",\n",
    "              prompt=prompt,\n",
    "              max_tokens=300, # adjusts the length of the response\n",
    "              temperature=0   # adjust the \"randonmess\" of the response\n",
    "            )\n",
    "answer = response[\"choices\"][0][\"text\"]\n",
    "\n",
    "print(f\"You: {prompt}\")\n",
    "print(f\"OpenAI: {answer}\")"
   ]
  },
  {
   "cell_type": "markdown",
   "id": "c36bcbe1",
   "metadata": {},
   "source": [
    "### Let's try to think step-by-step and use two prompts"
   ]
  },
  {
   "cell_type": "code",
   "execution_count": null,
   "id": "30cddfac",
   "metadata": {},
   "outputs": [],
   "source": [
    "prompt = \"\"\"\n",
    "Adan looks at a tree with 10 apples, 5 red, 3 blue, and 2 green. Eve looks at a red apple but then decides to take a green apple\n",
    "\n",
    "list what happened in the text step by step\n",
    "\"\"\"\n",
    "response = openai.Completion.create(\n",
    "              model=\"text-davinci-003\",\n",
    "              prompt=prompt,\n",
    "              max_tokens=300, # adjusts the length of the response\n",
    "              temperature=0   # adjust the \"randonmess\" of the response\n",
    "            )\n",
    "answer = response[\"choices\"][0][\"text\"]\n",
    "\n",
    "print(f\"You: {prompt}\")\n",
    "print(f\"OpenAI: {answer}\")"
   ]
  },
  {
   "cell_type": "code",
   "execution_count": null,
   "id": "ad814d94",
   "metadata": {},
   "outputs": [],
   "source": [
    "prompt = \"\"\"\n",
    "1. Adan looked at a tree with 10 apples, 5 red, 3 blue, and 2 green.\n",
    "2. Eve looked at a red apple.\n",
    "3. Eve decided to take a green apple.\n",
    "\n",
    "how many red apples are left on the tree?\n",
    "\"\"\"\n",
    "response = openai.Completion.create(\n",
    "              model=\"text-davinci-003\",\n",
    "              prompt=prompt,\n",
    "              max_tokens=200, # adjusts the length of the response\n",
    "              temperature=1   # adjust the \"randonmess\" of the response\n",
    "            )\n",
    "answer = response[\"choices\"][0][\"text\"]\n",
    "\n",
    "print(f\"You: {prompt}\")\n",
    "print(f\"OpenAI: {answer}\")"
   ]
  }
 ],
 "metadata": {
  "kernelspec": {
   "display_name": "Python 3 (ipykernel)",
   "language": "python",
   "name": "python3"
  },
  "language_info": {
   "codemirror_mode": {
    "name": "ipython",
    "version": 3
   },
   "file_extension": ".py",
   "mimetype": "text/x-python",
   "name": "python",
   "nbconvert_exporter": "python",
   "pygments_lexer": "ipython3",
   "version": "3.10.9"
  }
 },
 "nbformat": 4,
 "nbformat_minor": 5
}
