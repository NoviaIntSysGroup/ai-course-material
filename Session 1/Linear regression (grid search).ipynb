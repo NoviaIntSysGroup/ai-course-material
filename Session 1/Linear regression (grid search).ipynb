{
 "cells": [
  {
   "cell_type": "code",
   "execution_count": null,
   "id": "fafad9fc",
   "metadata": {},
   "outputs": [],
   "source": [
    "%matplotlib notebook\n",
    "import numpy as np\n",
    "import matplotlib.pyplot as plt\n",
    "from matplotlib import cm\n",
    "# Only use this if running the notebook on your local machine\n",
    "#plt.style.use('notebook.mplstyle')"
   ]
  },
  {
   "cell_type": "code",
   "execution_count": null,
   "id": "df351e65",
   "metadata": {},
   "outputs": [],
   "source": [
    "# Parameters\n",
    "n_points = 11\n",
    "x_lim = [-5, 5]\n",
    "# parameters for the data that we generate: y = kx + b\n",
    "k = 1\n",
    "b = 3\n",
    "\n",
    "# Generate linearly spaced data points\n",
    "x = np.linspace(x_lim[0], x_lim[1], n_points)\n",
    "y = k*x + b\n",
    "# Add normally distributed noise\n",
    "y = y + np.random.randn(n_points)\n",
    "\n",
    "# Visualize what we have\n",
    "fig, ax = plt.subplots(1, 1)\n",
    "ax.plot(x, y, 'o', alpha=0.5)\n",
    "ax.set(xlabel='x', ylabel='y');"
   ]
  },
  {
   "cell_type": "code",
   "execution_count": null,
   "id": "97267faf",
   "metadata": {},
   "outputs": [],
   "source": [
    "# Randon guess for k and b\n",
    "k_guess = np.random.randn(1) + k\n",
    "b_guess = np.random.randn(1) + b\n",
    "\n",
    "# Make model predictions\n",
    "y_hat = k_guess*x + b_guess\n",
    "# Compute the mean squarred error (MSE)\n",
    "e = y - y_hat\n",
    "e2 = e**2\n",
    "mse = e2.sum()\n",
    "\n",
    "# Visualize what we have\n",
    "fig = plt.figure(figsize=[10, 5])\n",
    "# Left panel\n",
    "ax_left = fig.add_subplot(1, 2, 1)\n",
    "ax_left.plot(np.stack([x, x]), np.stack([y, y_hat]), 'r-')\n",
    "ax_left.plot(x, y, 'o', alpha=0.5)\n",
    "ax_left.plot(x, y_hat, 'k-', alpha=0.5, label='{:.1f}x + {:.1f}'.format(k_guess[0], b_guess[0]))\n",
    "ax_left.set(xlabel='x', ylabel='y', title='MSE: {:.1f}'.format(mse))\n",
    "ax_left.legend();\n",
    "# Right panel\n",
    "ax_right = fig.add_subplot(1, 2, 2, projection='3d')\n",
    "ax_right.scatter(k_guess, b_guess, mse, s=50, c=mse, cmap=cm.coolwarm)\n",
    "ax_right.set(xlabel='k', ylabel='b', zlabel='MSE', xlim=[k-3, k+3], ylim=[b-3, b+3])\n",
    "ax_right.view_init(azim=70, elev=20.)"
   ]
  },
  {
   "cell_type": "code",
   "execution_count": null,
   "id": "400a6450",
   "metadata": {},
   "outputs": [],
   "source": [
    "n_res = 51\n",
    "k_values = np.linspace(k-1, k+1, n_res)\n",
    "b_values = np.linspace(b-2, b+2, n_res)\n",
    "K, B = np.meshgrid(k_values, b_values)\n",
    "\n",
    "MSE = np.zeros_like(K)\n",
    "for i in range(n_res):\n",
    "    for j in range(n_res):\n",
    "        k_guess = K[i, j]\n",
    "        b_guess = B[i, j]\n",
    "\n",
    "        y_hat = k_guess*x + b_guess\n",
    "        e = y - y_hat\n",
    "        e2 = e**2\n",
    "        MSE[i,j] = e2.sum()\n",
    "        \n",
    "fig = plt.figure(figsize=[8, 6])\n",
    "ax = fig.add_subplot(1, 1, 1, projection='3d')\n",
    "sh = ax.scatter(K.flatten(), B.flatten(), MSE.flatten(), s=50, c=MSE.flatten(), cmap=cm.coolwarm)\n",
    "#ax.plot_surface(K, B, MSE, cmap=cm.coolwarm)\n",
    "ax.set(xlabel='k', ylabel='b', zlabel='MSE')\n",
    "ax.view_init(azim=70, elev=20.)\n",
    "fig.colorbar(sh)"
   ]
  },
  {
   "cell_type": "code",
   "execution_count": null,
   "id": "32f2d974",
   "metadata": {},
   "outputs": [],
   "source": [
    "# Pick the best values for k and b\n",
    "row, col = np.unravel_index(MSE.argmin(), MSE.shape)\n",
    "k_best = K[row, col]\n",
    "b_best = B[row, col]\n",
    "\n",
    "# Make model predictions\n",
    "y_hat = k_best*x + b_best\n",
    "# Compute the mean squarred error (MSE)\n",
    "e = y - y_hat\n",
    "e2 = e**2\n",
    "mse = e2.sum()\n",
    "\n",
    "# Visualize what we have\n",
    "fig, ax = plt.subplots(1, 1)\n",
    "ax.plot(np.stack([x, x]), np.stack([y, y_hat]), 'r-')\n",
    "ax.plot(x, y, 'o', alpha=0.5)\n",
    "ax.plot(x, y_hat, 'k-', alpha=0.5, label='{:.1f}x + {:.1f}'.format(k_best, b_best))\n",
    "ax.set(xlabel='x', ylabel='y', title='MSE: {:.1f}'.format(mse))\n",
    "ax.legend();"
   ]
  }
 ],
 "metadata": {
  "kernelspec": {
   "display_name": "Python 3",
   "language": "python",
   "name": "python3"
  },
  "language_info": {
   "codemirror_mode": {
    "name": "ipython",
    "version": 3
   },
   "file_extension": ".py",
   "mimetype": "text/x-python",
   "name": "python",
   "nbconvert_exporter": "python",
   "pygments_lexer": "ipython3",
   "version": "3.8.8"
  }
 },
 "nbformat": 4,
 "nbformat_minor": 5
}
