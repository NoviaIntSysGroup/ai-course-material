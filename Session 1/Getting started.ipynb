{
 "cells": [
  {
   "cell_type": "markdown",
   "id": "cad95f05",
   "metadata": {},
   "source": [
    "# General notes\n",
    "Jupyter notebooks let you run python code in your browser. It is a called a notebook because you can mix descriptive text as well as math with python code to examplify implementations and do visualizations. This is made possible by dividing the notebook into cells, which can contain either code or text (this is a text cell). Text cells utilize markdown to format the text while also providing support for LaTeX commands to support writing of math symbols and equations.\n",
    "\n",
    "You can find numerous quick guides on markdown by searching the internet ([for example this one](https://www.markdownguide.org/cheat-sheet/)). Here is nonetheless a couple of examples: **bold text**, *italicized text*, and an ordered list:\n",
    "1. first item,\n",
    "2. second item.\n",
    "\n",
    "Enclosing text with '\\\\$' signs ensures that the content is interpreted as LaTex. You can therefore, for exampel, write an equaiton in text like $y=kx+b$, and it between text paragraphes using standard [LaTex environment commands](https://en.wikibooks.org/wiki/LaTeX/Mathematics) as:\n",
    "\\begin{equation}\n",
    "y=kx+b.\n",
    "\\end{equation}\n",
    "A few more examples include $\\hat{y}, \\alpha, \\beta, \\sum, \\int, \\nabla$. Together, these features let you write very detailed descriptions to explain what you are trying to examplify with the code cells in your notebook. So let us look at a code cell next."
   ]
  },
  {
   "cell_type": "code",
   "execution_count": null,
   "id": "0005a383",
   "metadata": {},
   "outputs": [],
   "source": [
    "# This is a code cell whose content is interpreted as python code.\n",
    "# Lines startig with # denote comments in python.\n",
    "\n",
    "# A few examples\n",
    "# Variables\n",
    "a = 5\n",
    "print(a)\n",
    "b = 4\n",
    "print(a+b)\n",
    "s1 = 'Firts'\n",
    "s2 = 'Last'\n",
    "print(s1+s2)\n",
    "# Lists\n",
    "l = [1, 2, 3]\n",
    "print(l)"
   ]
  },
  {
   "cell_type": "code",
   "execution_count": null,
   "id": "53dc8cc6",
   "metadata": {},
   "outputs": [],
   "source": [
    "# You normally include other python packages to task specific functionality\n",
    "# numpy is a stadrad package for working with arrays (vectors and matrices).\n",
    "import numpy as np\n",
    "\n",
    "x1 = np.array([1, 2, 3])\n",
    "x2 = np.array([2, 3, 4])\n",
    "\n",
    "# + - * / all perform element wise operations on arrays\n",
    "print(x1+x2)\n",
    "print(x1-x2)\n",
    "print(x1*x2)\n",
    "print(x1/x2)"
   ]
  },
  {
   "cell_type": "code",
   "execution_count": null,
   "id": "e7baf8ca",
   "metadata": {},
   "outputs": [],
   "source": [
    "# You can stack the vectors to form a matrix\n",
    "X = np.stack([x1, x2])\n",
    "print(X)"
   ]
  },
  {
   "cell_type": "code",
   "execution_count": null,
   "id": "99f11658",
   "metadata": {},
   "outputs": [],
   "source": [
    "# Problems with arrays usuable occur because you have lost track of their size and shape.\n",
    "# Keep in mind that, for example, element-wise operations require arrays of the same shape.\n",
    "# Get the shape of your arrays as:\n",
    "print(x1.shape)\n",
    "print(X.shape)\n",
    "# Similalry, the size will give you the total number of elements in an array\n",
    "print(X.size)"
   ]
  },
  {
   "cell_type": "code",
   "execution_count": null,
   "id": "a80f45e4",
   "metadata": {},
   "outputs": [],
   "source": [
    "# Arrays are objects and have various methods which they can performe.\n",
    "# For example, you can compute the sum ar mean of all elements as\n",
    "print(X)\n",
    "print(X.sum())\n",
    "print(X.mean())\n",
    "# These opeartion can also be performed along a specific axis\n",
    "print(X.sum(axis=0))"
   ]
  },
  {
   "cell_type": "code",
   "execution_count": null,
   "id": "c092bb31",
   "metadata": {},
   "outputs": [],
   "source": [
    "# Index specific elements using [idx] notation\n",
    "# Remember that the index of the first element is always 0 in python\n",
    "print(x1[0])\n",
    "print(X[0, 0])\n",
    "# you can index elements from the end of the array using a minus sign\n",
    "print(x1[-1])\n",
    "# Or select all element along a dimension using :\n",
    "print(X[1, :])"
   ]
  },
  {
   "cell_type": "code",
   "execution_count": null,
   "id": "6b1a816c",
   "metadata": {},
   "outputs": [],
   "source": [
    "# General data visualizations utilize the matplotlib package\n",
    "# This is normally imported as\n",
    "import matplotlib.pyplot as plt"
   ]
  },
  {
   "cell_type": "code",
   "execution_count": null,
   "id": "9c4ca55f",
   "metadata": {},
   "outputs": [],
   "source": [
    "# Lets try it out by plotting a linear, a quadratic, and a cubic function\n",
    "x_values = np.linspace(-1, 1., 5)\n",
    "y_linear = x_values\n",
    "y_quadratic = x_values**2\n",
    "y_cubic = x_values**3\n",
    "\n",
    "# You can create a figure window and an axes using\n",
    "fig, ax = plt.subplots(1, 1)\n",
    "ax.plot(x_values, y_linear, label='$y=x$')\n",
    "ax.plot(x_values, y_quadratic, label='$y=x^2$')\n",
    "ax.plot(x_values, y_cubic, label='$y=x^3$')\n",
    "ax.set(xlim=[x_values.min(), x_values.max()], ylim=[-1, 1], xlabel='x', ylabel='y')\n",
    "ax.legend();"
   ]
  },
  {
   "cell_type": "code",
   "execution_count": null,
   "id": "6daafef3",
   "metadata": {},
   "outputs": [],
   "source": []
  }
 ],
 "metadata": {
  "kernelspec": {
   "display_name": "Python 3",
   "language": "python",
   "name": "python3"
  },
  "language_info": {
   "codemirror_mode": {
    "name": "ipython",
    "version": 3
   },
   "file_extension": ".py",
   "mimetype": "text/x-python",
   "name": "python",
   "nbconvert_exporter": "python",
   "pygments_lexer": "ipython3",
   "version": "3.8.8"
  }
 },
 "nbformat": 4,
 "nbformat_minor": 5
}
