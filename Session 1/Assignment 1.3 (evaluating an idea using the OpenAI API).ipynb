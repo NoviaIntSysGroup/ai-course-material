{
 "cells": [
  {
   "cell_type": "code",
   "execution_count": null,
   "id": "0d9e016d",
   "metadata": {},
   "outputs": [],
   "source": [
    "import os\n",
    "\n",
    "!pip install openai\n",
    "import openai\n",
    "\n",
    "# Used to load the API key when stored locally on your computer (not needed in Colab)\n",
    "# from dotenv import load_dotenv, find_dotenv"
   ]
  },
  {
   "cell_type": "code",
   "execution_count": null,
   "id": "9cd4667d",
   "metadata": {},
   "outputs": [],
   "source": [
    "# Option 1: when running on your local computer and \n",
    "# you have the the api key stored in a .env file\n",
    "# dotenv_path = find_dotenv()\n",
    "# load_dotenv(dotenv_path)\n",
    "# api_key = os.environ.get(\"OPENAI_API_KEY\")\n",
    "# Option 2: when running on Colab and just copy paste\n",
    "# the api key into your notebook\n",
    "api_key = \"YOUR_API_KEY\"\n",
    "\n",
    "openai.api_key = api_key"
   ]
  },
  {
   "cell_type": "markdown",
   "id": "0d3cceee",
   "metadata": {},
   "source": [
    "### Task description\n",
    "Evaluate the feasibility of an idea for how one could utilize the various services available through the OpenAI API. For full points you should describe:\n",
    "1. your idea (what one could do with the functions provided by the API),\n",
    "2. how you intend to test whether it works or not (what is the performance criteria it needs to meet), and\n",
    "3. the results of your evaluation."
   ]
  },
  {
   "cell_type": "markdown",
   "id": "21f7fb6d",
   "metadata": {},
   "source": [
    "### Template 1: generating text"
   ]
  },
  {
   "cell_type": "code",
   "execution_count": null,
   "id": "2cdb9773",
   "metadata": {},
   "outputs": [],
   "source": [
    "prompt = \"\"\"\n",
    "YOUR PROMPT\n",
    "\"\"\"\n",
    "response = openai.Completion.create(\n",
    "              model=\"text-davinci-003\",\n",
    "              prompt=prompt,\n",
    "              max_tokens=100, # adjusts the length of the response\n",
    "              temperature=0   # adjust the \"randonmess\" of the response\n",
    "            )\n",
    "answer = response[\"choices\"][0][\"text\"]\n",
    "\n",
    "print(f\"You: {prompt}\")\n",
    "print(f\"OpenAI: {answer}\")"
   ]
  },
  {
   "cell_type": "markdown",
   "id": "91c20783",
   "metadata": {},
   "source": [
    "### Template 2: image generation"
   ]
  },
  {
   "cell_type": "code",
   "execution_count": null,
   "id": "a8f5089e",
   "metadata": {},
   "outputs": [],
   "source": [
    "prompt = \"YOUR PROMPT\"\n",
    "\n",
    "response = openai.Image.create(\n",
    "  prompt=prompt,\n",
    "  n=1,\n",
    "  size=\"1024x1024\"\n",
    ")\n",
    "\n",
    "image_url = response['data'][0]['url']\n",
    "print(image_url)"
   ]
  }
 ],
 "metadata": {
  "kernelspec": {
   "display_name": "Python 3 (ipykernel)",
   "language": "python",
   "name": "python3"
  },
  "language_info": {
   "codemirror_mode": {
    "name": "ipython",
    "version": 3
   },
   "file_extension": ".py",
   "mimetype": "text/x-python",
   "name": "python",
   "nbconvert_exporter": "python",
   "pygments_lexer": "ipython3",
   "version": "3.10.9"
  }
 },
 "nbformat": 4,
 "nbformat_minor": 5
}
