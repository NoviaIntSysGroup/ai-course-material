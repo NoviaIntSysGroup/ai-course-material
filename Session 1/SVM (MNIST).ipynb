{
 "cells": [
  {
   "cell_type": "code",
   "execution_count": null,
   "id": "244dcbae",
   "metadata": {},
   "outputs": [],
   "source": [
    "import numpy as np\n",
    "import matplotlib.pyplot as plt\n",
    "from matplotlib import cm\n",
    "from sklearn.svm import SVC\n",
    "from sklearn.model_selection import KFold\n",
    "from sklearn.model_selection import train_test_split\n",
    "from sklearn.datasets import fetch_openml\n",
    "from sklearn.metrics import confusion_matrix\n",
    "#plt.style.use('notebook.mplstyle')\n",
    "# Speed up scikit-learn\n",
    "#from sklearnex import patch_sklearn\n",
    "#patch_sklearn()"
   ]
  },
  {
   "cell_type": "code",
   "execution_count": null,
   "id": "7124767c",
   "metadata": {},
   "outputs": [],
   "source": [
    "# Load data from https://www.openml.org/d/554\n",
    "X, y = fetch_openml(\"mnist_784\", version=1, return_X_y=True, as_frame=False)"
   ]
  },
  {
   "cell_type": "code",
   "execution_count": null,
   "id": "9693c9da",
   "metadata": {},
   "outputs": [],
   "source": [
    "# Create a figure window\n",
    "fig = plt.figure(figsize=[17, 6])\n",
    "\n",
    "# Loop over all numbers and plot an example image of each one\n",
    "for i in range(10):\n",
    "    # Create a subplot\n",
    "    ax = fig.add_subplot(2, 5, i+1)\n",
    "    # Find an image of the right number\n",
    "    idx_tmp = np.where(y==str(i))[0][0]\n",
    "    # Plot the number as an image\n",
    "    ax.imshow(X[idx_tmp, :].reshape(28, 28), cmap=cm.Greys_r)\n",
    "    ax.set(xticks=[], yticks=[])"
   ]
  },
  {
   "cell_type": "code",
   "execution_count": null,
   "id": "15d1a996",
   "metadata": {},
   "outputs": [],
   "source": [
    "# Normalize so that all values are between 0 and 1\n",
    "X = X / X[:].max()\n",
    "\n",
    "# We use a very large test set size to speed up computations in Colab\n",
    "# you can use 0.5 instead if running on your own computer\n",
    "X_train, X_test, y_train, y_test = train_test_split(X, y, test_size=0.9, random_state=1)\n",
    "\n",
    "# Scale down the test set to speed up predictions in Colab\n",
    "X_test = X_test[:10000, :]\n",
    "y_test = y_test[:10000]\n",
    "\n",
    "# Cross-validation\n",
    "n_folds = 2;\n",
    "kf = KFold(n_splits=n_folds, shuffle=True, random_state=1)\n",
    "c_values = np.logspace(-1, 2, 4)\n",
    "\n",
    "# Loop over all C values\n",
    "accuracy_per_c = []\n",
    "for i in range(c_values.size):\n",
    "    \n",
    "    print('Trying C={:1.1e}'.format(c_values[i]))\n",
    "    svc = SVC(C=c_values[i], max_iter=5000)\n",
    "    \n",
    "    accuracy_sum = 0\n",
    "    # Loop over all division into training and validation sets\n",
    "    for train_index, val_index in kf.split(X_train):\n",
    "        \n",
    "        # SPlit into training and validation sets\n",
    "        X_cv_train, X_cv_val = X_train[train_index, :], X_train[val_index, :]\n",
    "        y_cv_train, y_cv_val = y_train[train_index], y_train[val_index]\n",
    "        \n",
    "        # Fit a model and compute the MSE for validation set predictions\n",
    "        svc.fit(X_cv_train, y_cv_train)\n",
    "        y_hat_cv_val = svc.predict(X_cv_val)\n",
    "        acc_tmp = np.mean(y_cv_val == y_hat_cv_val)\n",
    "        accuracy_sum += acc_tmp\n",
    "        print('Validation fold accuracy: {:1.3f}'.format(acc_tmp))\n",
    "                           \n",
    "    # Store away the final accuracy value for each C value\n",
    "    accuracy_per_c.append(accuracy_sum / n_folds)"
   ]
  },
  {
   "cell_type": "code",
   "execution_count": null,
   "id": "ab69e3df",
   "metadata": {},
   "outputs": [],
   "source": [
    "# Find the best C value \n",
    "best_idx = np.argmax(accuracy_per_c)\n",
    "best_c_value = c_values[best_idx]\n",
    "\n",
    "# Visualize the cofusion matrix\n",
    "fig, ax = plt.subplots(1, 1)\n",
    "ax.plot(c_values, accuracy_per_c, 'ko-')\n",
    "ax.plot(c_values[best_idx], accuracy_per_c[best_idx], 'ko', ms=20, mfc='none')\n",
    "ax.set(xscale='log', xlabel='C', ylabel='Accuracy', title='Best C value: {:1.1e}'.format(best_c_value));"
   ]
  },
  {
   "cell_type": "code",
   "execution_count": null,
   "id": "d75b9709",
   "metadata": {},
   "outputs": [],
   "source": [
    "# Fit a model using the best C value\n",
    "svc = SVC(C=best_c_value, verbose=1, max_iter=5000)\n",
    "svc.fit(X_train, y_train)"
   ]
  },
  {
   "cell_type": "code",
   "execution_count": null,
   "id": "c1b35a57",
   "metadata": {},
   "outputs": [],
   "source": [
    "# Check the accuracy of our model\n",
    "y_hat_train = svc.predict(X_train)\n",
    "y_hat_test = svc.predict(X_test)\n",
    "print('Train set accuracy: {:2.1f} %'.format(100*np.mean(y_hat_train == y_train)))\n",
    "print('Test set accuracy: {:2.1f} %'.format(100*np.mean(y_hat_test == y_test)))"
   ]
  },
  {
   "cell_type": "code",
   "execution_count": null,
   "id": "a5bcaae0",
   "metadata": {},
   "outputs": [],
   "source": [
    "# Compute the confusion matrix\n",
    "conf_mat = confusion_matrix(y_test, y_hat_test)\n",
    "print(conf_mat)\n",
    "max_nondiag_val = np.flip(np.sort(conf_mat.flatten()))[10]\n",
    "\n",
    "# Visualize the cofusion matrix\n",
    "fig, ax = plt.subplots(1, 1, figsize=[8, 6])\n",
    "ih = ax.imshow(conf_mat, vmin=0, vmax=2*max_nondiag_val, cmap=cm.Greys_r)\n",
    "ax.set(xticks=range(10), yticks=range(10), xlabel='Pred. label', ylabel='True label', title='Confusion matrix')\n",
    "fig.colorbar(ih, label='number of samples');"
   ]
  },
  {
   "cell_type": "code",
   "execution_count": null,
   "id": "8636ad46",
   "metadata": {},
   "outputs": [],
   "source": [
    "# Find incorrectly predicted images\n",
    "incorrect_idx = np.where(y_test != y_hat_test)[0]\n",
    "\n",
    "# Create a figure window\n",
    "fig = plt.figure(figsize=[17, 14])\n",
    "\n",
    "# Loop over incorrectly classified images and plot examples\n",
    "for i in range(25):\n",
    "    # Create a subplot\n",
    "    ax = fig.add_subplot(5, 5, i+1)\n",
    "    # Select an incorreclty classified image\n",
    "    idx_tmp = incorrect_idx[i]\n",
    "    # Plot the image\n",
    "    ax.imshow(X_test[idx_tmp, :].reshape(28, 28), cmap=cm.Greys_r)\n",
    "    ax.set(xticks=[], yticks=[], title='True: {:}; Pred. {:}'.format(y_test[idx_tmp], y_hat_test[idx_tmp]))"
   ]
  },
  {
   "cell_type": "code",
   "execution_count": null,
   "id": "e28777e3",
   "metadata": {},
   "outputs": [],
   "source": []
  }
 ],
 "metadata": {
  "kernelspec": {
   "display_name": "Python 3",
   "language": "python",
   "name": "python3"
  },
  "language_info": {
   "codemirror_mode": {
    "name": "ipython",
    "version": 3
   },
   "file_extension": ".py",
   "mimetype": "text/x-python",
   "name": "python",
   "nbconvert_exporter": "python",
   "pygments_lexer": "ipython3",
   "version": "3.8.8"
  }
 },
 "nbformat": 4,
 "nbformat_minor": 5
}
