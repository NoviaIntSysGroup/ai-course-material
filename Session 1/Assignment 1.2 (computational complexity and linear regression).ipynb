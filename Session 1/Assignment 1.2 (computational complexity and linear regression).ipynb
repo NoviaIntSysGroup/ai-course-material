{
 "cells": [
  {
   "cell_type": "code",
   "execution_count": null,
   "id": "27c09a57",
   "metadata": {},
   "outputs": [],
   "source": [
    "import numpy as np\n",
    "import matplotlib.pyplot as plt\n",
    "from matplotlib import cm\n",
    "from sklearn.linear_model import LinearRegression\n",
    "# Only use this if running the notebook on your local machine\n",
    "#plt.style.use('notebook.mplstyle')"
   ]
  },
  {
   "cell_type": "markdown",
   "id": "ad62b2fb",
   "metadata": {},
   "source": [
    "### Computational complexity\n",
    "It is always useful to have at least a rough idea of the computational complexity of your data analysis. By this I mean the amount of computations that has to be performed and how this changes as a function of data collected. One common way to assess this is to consider how the amount of computations increase as your gather more data. However, one is rarely interested in the exact time taken (that depends on your hardware) but rather how the computations scales: does the computation time grow linearly ($\\propto n^1$), quadratically ($\\propto n^2$), cubically ($\\propto n^3$), etc. For example, if the computation time grows cubicly, then it will take 1000 times longer to do your analysis if you collect ten times more data. Worst case scenario is then that you go through the trouble of collecting 10 times more data just to find out that you don't have the time and resources to analyze it. In this assignment you will get a little bit more familiar with computational complexity by analyzing how long it takes to compute the distance between all data points in your data set."
   ]
  },
  {
   "cell_type": "markdown",
   "id": "e865bd36",
   "metadata": {},
   "source": [
    "### Computational complexity for computing the distance between all pairs of data points\n",
    "Assume you have a data matrix $\\mathbf{X}$, where each row denotes one data point, for example row $i$ denotes the data point $\\mathbf{x}_i$. The distance ($d_{ij}$) between data points $\\mathbf{x}_i$ and $\\mathbf{x}_j$ is found by generalizing Pythagorean theorem to higher dimensions as:\n",
    "\\begin{equation}\n",
    " d_{ij} = \\sqrt{(x_{i1}-x_{j1})^2+x_{i2}-x_{j2})^2+...+(x_{im}-x_{jm})^2},\n",
    "\\end{equation}\n",
    "where $m$ denotes the dimensionality of our data (the number of columns in $\\mathbf{X}$).\n",
    "\n",
    "To get started, let us define a function that computes a distance matrix ($D$) for a data matrix $\\mathbf{X}$, where each elements $d_{ij}$ in $\\mathbf{D}$ denotes the distance between data points $\\mathbf{x}_i$ and $\\mathbf{x}_j$ (that is row $i$ and $j$ in $\\mathbf{X}$)."
   ]
  },
  {
   "cell_type": "code",
   "execution_count": null,
   "id": "b6b39c7e",
   "metadata": {},
   "outputs": [],
   "source": [
    "def compute_distances(X):\n",
    "    \n",
    "    # Check how many rows (data points) X has\n",
    "    n_data_points = X.shape[0]\n",
    "    # Create a matric to store the distance values in\n",
    "    D = np.zeros([n_data_points, n_data_points])\n",
    "    \n",
    "    # First loop over all data points\n",
    "    for i in range(n_data_points):\n",
    "        # Select the data point from corresponding to row i\n",
    "        xi = X[i, :]\n",
    "        \n",
    "        # Second loop over all data points\n",
    "        for j in range(n_data_points):\n",
    "            # Select the data point from corresponding to row i\n",
    "            xj = X[j, :]\n",
    "            # Compute the difference vector between the data points\n",
    "            x_diff = xi - xj\n",
    "            # Compute the distance of the difference vector\n",
    "            d_tmp = np.sqrt( np.sum( x_diff**2 ) )\n",
    "            # Store the distance value into our distance matrix\n",
    "            D[i, j] = d_tmp\n",
    "            \n",
    "    return D"
   ]
  },
  {
   "cell_type": "markdown",
   "id": "7d72b5e6",
   "metadata": {},
   "source": [
    "Before doing anything else, it is a good idea to check that our function is doing what we want. So lets test it on a small matrix $\\mathbf{X}$ for which we can visually inspect the result."
   ]
  },
  {
   "cell_type": "code",
   "execution_count": null,
   "id": "ace060fe",
   "metadata": {},
   "outputs": [],
   "source": [
    "# Randomly gerenate a few 2-dimensional data points\n",
    "X = np.random.rand(5, 2)\n",
    "\n",
    "# Compute the distance between each pair of data points\n",
    "D = compute_distances(X)\n",
    "# Print the matrix\n",
    "print(D)\n",
    "\n",
    "# Inspect the computed values visually\n",
    "# Check that the distances values for data points far apart are \n",
    "# large, and wise-versa.\n",
    "fig, ax = plt.subplots(1, 1)\n",
    "ax.plot(X[:, 0], X[:, 1], 'o', alpha=0.5)\n",
    "for i in range(5):\n",
    "    ax.text(X[i, 0], X[i, 1], str(i+1), va='bottom', ha='left')\n",
    "ax.set(xlabel='$x_1$', ylabel='$x_2$', xlim=[0, 1], ylim=[0, 1], \n",
    "       title='Randomly generated data points');"
   ]
  },
  {
   "cell_type": "markdown",
   "id": "a90d5458",
   "metadata": {},
   "source": [
    "### Generating data\n",
    "Now that our function works, we can start analyzing the time required to compute $\\mathbf{D}$ as a function of the amount of data (number of rows in $\\mathbf{X}$). To do so, we simply generate random data matrices with varying number of rows (denoted by $n$ below) and measure how long it takes to compute $\\mathbf{D}$ for various $n$ values."
   ]
  },
  {
   "cell_type": "code",
   "execution_count": null,
   "id": "4f5582d5",
   "metadata": {},
   "outputs": [],
   "source": [
    "# The dimensionality of the randomly generated data\n",
    "m = 100\n",
    "# Select the number of data points to measure the computation time for\n",
    "# Modify if needed so that the time required for the larges n value is a few seconds.\n",
    "n_values = 20*2**np.arange(6)\n",
    "\n",
    "# Loop over all n values to try\n",
    "comp_times_s = []\n",
    "for n_tmp in n_values:\n",
    "    \n",
    "    # Genrerate a random data matric with n_tmp rows and m columns\n",
    "    X_tmp = np.random.rand(n_tmp, m)\n",
    "    # Measure the computation time, see \n",
    "    # https://ipython.readthedocs.io/en/stable/interactive/magics.html\n",
    "    # for how to use the timeit magic command\n",
    "    result = %timeit -n1 -r1 -o -q compute_distances(X_tmp)\n",
    "    # Store the average time taken to evaluate the function\n",
    "    comp_times_s.append(result.best)\n",
    "    \n",
    "    print('n = {:1.5g}: {:1.3f}'.format(n_tmp, result.best))"
   ]
  },
  {
   "cell_type": "markdown",
   "id": "8ed6b36d",
   "metadata": {},
   "source": [
    "As always, once we have some data, we start off by looking at it."
   ]
  },
  {
   "cell_type": "code",
   "execution_count": null,
   "id": "c6556917",
   "metadata": {},
   "outputs": [],
   "source": [
    "fig, ax = plt.subplots(1, 1)\n",
    "ax.plot(n_values, comp_times_s, 'o:', alpha=0.5)\n",
    "ax.set(xlabel='Number of data points', ylabel='Computation time (s)', \n",
    "       title='Distance computation between all data points');"
   ]
  },
  {
   "cell_type": "markdown",
   "id": "3a72e088",
   "metadata": {},
   "source": [
    "The computation time clearly grows as $n$ increases, and we also note that it definitely grows faster than just linearly, the question is just how much faster? The expectation is that we can model the relationship using a model of the form:\n",
    "\\begin{equation}\n",
    "    t = c n^k,\n",
    "\\end{equation}\n",
    "where $t$ is the time required, $c$ the time required for one data point, and $k$ an exponent denoting how fast the growth is (1 for linear, 2 for quadratic, etc). This is not a linear model, but once we take the logarithm of both sides we get:\n",
    "\\begin{equation}\n",
    "    \\log{t} = \\log c + k \\log n,\n",
    "\\end{equation}\n",
    "meaning that the logarithm of the time required is a linear function of the logarithm of $n$ (the number of data points), and that $k$ corresponds to the slope of this linear function."
   ]
  },
  {
   "cell_type": "markdown",
   "id": "c490e0e4",
   "metadata": {},
   "source": [
    "### Your job is to:\n",
    "1. Take the logarithm (np.log10) of the time required $t$ as well as $n$.\n",
    "2. Plot the data again and verify that the relationship now appears to be linear.\n",
    "3. Use linear regression to learn the value of $k$ from the data.\n",
    "4. Discuss what the implications of the found $k$ value are in practice.\n",
    "5. Try to explain (based on reasoning) what the $k$ value should be when computing the distances between each data point."
   ]
  },
  {
   "cell_type": "code",
   "execution_count": null,
   "id": "bb99065d",
   "metadata": {},
   "outputs": [],
   "source": []
  }
 ],
 "metadata": {
  "kernelspec": {
   "display_name": "Python 3",
   "language": "python",
   "name": "python3"
  },
  "language_info": {
   "codemirror_mode": {
    "name": "ipython",
    "version": 3
   },
   "file_extension": ".py",
   "mimetype": "text/x-python",
   "name": "python",
   "nbconvert_exporter": "python",
   "pygments_lexer": "ipython3",
   "version": "3.8.8"
  }
 },
 "nbformat": 4,
 "nbformat_minor": 5
}
