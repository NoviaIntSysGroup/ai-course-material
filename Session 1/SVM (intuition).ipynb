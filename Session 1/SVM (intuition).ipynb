{
 "cells": [
  {
   "cell_type": "code",
   "execution_count": null,
   "id": "5f1bf703",
   "metadata": {},
   "outputs": [],
   "source": [
    "%matplotlib inline\n",
    "import numpy as np\n",
    "import matplotlib.pyplot as plt\n",
    "from sklearn.svm import SVC\n",
    "from matplotlib import cm\n",
    "from matplotlib.colors import ListedColormap\n",
    "# Only use this if running the notebook on your local machine\n",
    "#plt.style.use('notebook.mplstyle')\n",
    "colors = plt.get_cmap(\"tab10\")\n",
    "# Define my own colormap\n",
    "gray = 0.75\n",
    "red = np.hstack([np.linspace(colors(0)[0], gray, 128), np.linspace(gray, colors(1)[0], 127)])\n",
    "green = np.hstack([np.linspace(colors(0)[1], gray, 128), np.linspace(gray, colors(1)[1], 127)])\n",
    "blue = np.hstack([np.linspace(colors(0)[2], gray, 128), np.linspace(gray, colors(1)[2], 127)])\n",
    "rgb = np.vstack([red, green, blue]).T\n",
    "my_cmap = ListedColormap(rgb)"
   ]
  },
  {
   "cell_type": "code",
   "execution_count": null,
   "id": "db8b9edb",
   "metadata": {},
   "outputs": [],
   "source": [
    "n_per_class = 20\n",
    "mu_class1 = -2.\n",
    "mu_class2 = 2.\n",
    "\n",
    "x_class1 =  np.random.randn(n_per_class, 2) + mu_class1\n",
    "x_class2 =  np.random.randn(n_per_class, 2) + mu_class2\n",
    "\n",
    "X = np.vstack([x_class1, x_class2])\n",
    "y = np.vstack([np.zeros([n_per_class, 1]), np.ones([n_per_class, 1])])\n",
    "\n",
    "# Visualize what we have\n",
    "fig, ax = plt.subplots(1, 1)\n",
    "ax.plot(X[y.flatten()==0, 0], X[y.flatten()==0, 1], 'o', alpha=0.75, label='Class 1')\n",
    "ax.plot(X[y.flatten()==1, 0], X[y.flatten()==1, 1], 'o', alpha=0.75, label='Class 2')\n",
    "ax.set(xlabel='$x_1$', ylabel='$x_2$')\n",
    "ax.legend();"
   ]
  },
  {
   "cell_type": "markdown",
   "id": "2250fc93",
   "metadata": {},
   "source": [
    "### Which line splits the data the best?"
   ]
  },
  {
   "cell_type": "code",
   "execution_count": null,
   "id": "6275e5c7",
   "metadata": {},
   "outputs": [],
   "source": [
    "# Three lines corresponding to three potential linear classifiers\n",
    "x1_lines = np.linspace(mu_class1-2.5, mu_class2+2.5, 10)\n",
    "x2_lines = np.stack([x1_lines*k for k in np.array([-0.5, -1, -2])])\n",
    "\n",
    "# Visualize what we have\n",
    "fig, ax = plt.subplots(1, 1)\n",
    "ax.plot(X[y.flatten()==0, 0], X[y.flatten()==0, 1], 'o', alpha=0.75, label='Class 1')\n",
    "ax.plot(X[y.flatten()==1, 0], X[y.flatten()==1, 1], 'o', alpha=0.75, label='Class 2')\n",
    "for i in range(x2_lines.shape[0]):\n",
    "    ax.plot(x1_lines, x2_lines[i, :], 'k:')\n",
    "ax.set(xlabel='$x_1$', ylabel='$x_2$', ylim=[mu_class1-3, mu_class2+3])\n",
    "ax.legend();"
   ]
  },
  {
   "cell_type": "code",
   "execution_count": null,
   "id": "032cfe64",
   "metadata": {},
   "outputs": [],
   "source": [
    "# Support vector machines (classifiers) chooses the line\n",
    "# that maximizes the distance to the closest data points\n",
    "# The hyperparameter C works as a tradeoff between prioritizing \n",
    "# to mazimize the margin versus penalizing incorrectly \n",
    "# classified data points.\n",
    "svc = SVC(C=1e3, kernel='linear')\n",
    "svc.fit(X, y.flatten())\n",
    "\n",
    "# Three lines corresponding to three potential linear classifiers\n",
    "x1_svc = np.linspace(mu_class1-2.5, mu_class2+2.5, 10)\n",
    "x2_border = -svc.intercept_ / svc.coef_[0][1] - x1_svc * svc.coef_[0][0] / svc.coef_[0][1]\n",
    "x2_margin1 = (1-svc.intercept_) / svc.coef_[0][1] - x1_svc * svc.coef_[0][0] / svc.coef_[0][1]\n",
    "x2_margin2 = (-1-svc.intercept_) / svc.coef_[0][1] - x1_svc * svc.coef_[0][0] / svc.coef_[0][1]\n",
    "\n",
    "# Visualize what we have\n",
    "fig, ax = plt.subplots(1, 1)\n",
    "ax.plot(X[y.flatten()==0, 0], X[y.flatten()==0, 1], 'o', alpha=0.75, label='Class 1')\n",
    "ax.plot(X[y.flatten()==1, 0], X[y.flatten()==1, 1], 'o', alpha=0.75, label='Class 2')\n",
    "ax.plot(x1_svc, x2_border, 'k-')\n",
    "ax.plot(x1_svc, x2_margin1, 'k:')\n",
    "ax.plot(x1_svc, x2_margin2, 'k:')\n",
    "ax.plot(svc.support_vectors_[:, 0], svc.support_vectors_[:, 1], 'ko', ms=18, mfc='none')\n",
    "ax.set(xlabel='$x_1$', ylabel='$x_2$', ylim=[mu_class1-3, mu_class2+3])\n",
    "ax.legend();"
   ]
  }
 ],
 "metadata": {
  "kernelspec": {
   "display_name": "Python 3",
   "language": "python",
   "name": "python3"
  },
  "language_info": {
   "codemirror_mode": {
    "name": "ipython",
    "version": 3
   },
   "file_extension": ".py",
   "mimetype": "text/x-python",
   "name": "python",
   "nbconvert_exporter": "python",
   "pygments_lexer": "ipython3",
   "version": "3.8.8"
  }
 },
 "nbformat": 4,
 "nbformat_minor": 5
}
