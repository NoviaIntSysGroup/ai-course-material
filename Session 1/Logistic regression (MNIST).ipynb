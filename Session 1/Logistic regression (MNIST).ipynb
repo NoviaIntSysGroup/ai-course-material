{
 "cells": [
  {
   "cell_type": "code",
   "execution_count": null,
   "id": "faefbf6c",
   "metadata": {},
   "outputs": [],
   "source": [
    "import numpy as np\n",
    "import matplotlib.pyplot as plt\n",
    "from matplotlib import cm\n",
    "from sklearn.linear_model import LogisticRegression, LogisticRegressionCV\n",
    "from sklearn.model_selection import train_test_split\n",
    "from sklearn.datasets import fetch_openml\n",
    "from sklearn.metrics import confusion_matrix\n",
    "# Only use this if running the notebook on your local machine\n",
    "#plt.style.use('notebook.mplstyle')\n",
    "# Speed up scikit-learn\n",
    "#from sklearnex import patch_sklearn\n",
    "#patch_sklearn()"
   ]
  },
  {
   "cell_type": "code",
   "execution_count": null,
   "id": "f18768ee",
   "metadata": {},
   "outputs": [],
   "source": [
    "# Load data from https://www.openml.org/d/554\n",
    "X, y = fetch_openml(\"mnist_784\", version=1, return_X_y=True, as_frame=False)"
   ]
  },
  {
   "cell_type": "code",
   "execution_count": null,
   "id": "83a111b7",
   "metadata": {},
   "outputs": [],
   "source": [
    "# Create a figure window\n",
    "fig = plt.figure(figsize=[17, 6])\n",
    "\n",
    "# Loop over all numbers and plot an example image of each one\n",
    "for i in range(10):\n",
    "    # Create a subplot\n",
    "    ax = fig.add_subplot(2, 5, i+1)\n",
    "    # Find an image of the right number\n",
    "    idx_tmp = np.where(y==str(i))[0][0]\n",
    "    # Plot the number as an image\n",
    "    ax.imshow(X[idx_tmp, :].reshape(28, 28), cmap=cm.Greys_r)\n",
    "    ax.set(xticks=[], yticks=[])"
   ]
  },
  {
   "cell_type": "code",
   "execution_count": null,
   "id": "fb25fb10",
   "metadata": {
    "scrolled": true
   },
   "outputs": [],
   "source": [
    "# Normalize so that all values are between 0 and 1\n",
    "X = X / X[:].max()\n",
    "\n",
    "# We use a very large test set size to speed up computations in Colab\n",
    "# you can use 0.5 instead if running on your own computer\n",
    "X_train, X_test, y_train, y_test = train_test_split(X, y, test_size=0.9, random_state=1)\n",
    "\n",
    "log_reg = LogisticRegressionCV(Cs=np.logspace(-4, 0, 5), verbose=1, fit_intercept=True, solver='lbfgs', cv=2, max_iter=1000)\n",
    "#log_reg = LogisticRegression(C=1e-1, fit_intercept=True, verbose=1, n_jobs=6, solver='lbfgs')\n",
    "log_reg.fit(X_train, y_train)"
   ]
  },
  {
   "cell_type": "code",
   "execution_count": null,
   "id": "beef99fe",
   "metadata": {},
   "outputs": [],
   "source": [
    "# Check the accuracy of our model\n",
    "y_hat_train = log_reg.predict(X_train)\n",
    "y_hat_test = log_reg.predict(X_test)\n",
    "print('Train set accuracy: {:2.1f} %'.format(100*np.mean(y_hat_train == y_train)))\n",
    "print('Test set accuracy: {:2.1f} %'.format(100*np.mean(y_hat_test == y_test)))"
   ]
  },
  {
   "cell_type": "code",
   "execution_count": null,
   "id": "d1136f08",
   "metadata": {},
   "outputs": [],
   "source": [
    "# Compute the confusion matrix\n",
    "conf_mat = confusion_matrix(y_test, y_hat_test)\n",
    "print(conf_mat)\n",
    "max_nondiag_val = np.flip(np.sort(conf_mat.flatten()))[10]\n",
    "\n",
    "# Visualize the cofusion matrix\n",
    "fig, ax = plt.subplots(1, 1, figsize=[8, 6])\n",
    "ih = ax.imshow(conf_mat, vmin=0, vmax=2*max_nondiag_val, cmap=cm.Greys_r)\n",
    "ax.set(xticks=range(10), yticks=range(10), xlabel='Pred. label', ylabel='True label', title='Confusion matrix')\n",
    "fig.colorbar(ih, label='number of samples');"
   ]
  },
  {
   "cell_type": "code",
   "execution_count": null,
   "id": "583a661f",
   "metadata": {},
   "outputs": [],
   "source": [
    "# Find incorrectly predicted images\n",
    "incorrect_idx = np.where(y_test != y_hat_test)[0]\n",
    "\n",
    "# Create a figure window\n",
    "fig = plt.figure(figsize=[17, 14])\n",
    "\n",
    "# Loop over incorrectly classified images and plot examples\n",
    "for i in range(25):\n",
    "    # Create a subplot\n",
    "    ax = fig.add_subplot(5, 5, i+1)\n",
    "    # Select an incorreclty classified image\n",
    "    idx_tmp = incorrect_idx[i]\n",
    "    # Plot the image\n",
    "    ax.imshow(X_test[idx_tmp, :].reshape(28, 28), cmap=cm.Greys_r)\n",
    "    ax.set(xticks=[], yticks=[], title='True: {:}; Pred. {:}'.format(y_test[idx_tmp], y_hat_test[idx_tmp]))"
   ]
  }
 ],
 "metadata": {
  "kernelspec": {
   "display_name": "Python 3",
   "language": "python",
   "name": "python3"
  },
  "language_info": {
   "codemirror_mode": {
    "name": "ipython",
    "version": 3
   },
   "file_extension": ".py",
   "mimetype": "text/x-python",
   "name": "python",
   "nbconvert_exporter": "python",
   "pygments_lexer": "ipython3",
   "version": "3.8.8"
  }
 },
 "nbformat": 4,
 "nbformat_minor": 5
}
