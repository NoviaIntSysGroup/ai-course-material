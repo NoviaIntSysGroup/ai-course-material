{
 "cells": [
  {
   "cell_type": "code",
   "execution_count": null,
   "id": "95b24dae",
   "metadata": {},
   "outputs": [],
   "source": [
    "import numpy as np\n",
    "import matplotlib.pyplot as plt\n",
    "from matplotlib import cm\n",
    "from sklearn.linear_model import LinearRegression, RidgeCV\n",
    "from sklearn.model_selection import train_test_split\n",
    "# Only use this if running the notebook on your local machine\n",
    "#plt.style.use('notebook.mplstyle')"
   ]
  },
  {
   "cell_type": "code",
   "execution_count": null,
   "id": "7c816680",
   "metadata": {},
   "outputs": [],
   "source": [
    "from sklearn.datasets import fetch_california_housing\n",
    "california_housing = fetch_california_housing()"
   ]
  },
  {
   "cell_type": "code",
   "execution_count": null,
   "id": "24066970",
   "metadata": {},
   "outputs": [],
   "source": [
    "X = california_housing.data\n",
    "y = california_housing.target.reshape(X.shape[0], 1)\n",
    "all_data = np.hstack([X, y])\n",
    "all_labels = california_housing.feature_names + california_housing.target_names"
   ]
  },
  {
   "cell_type": "code",
   "execution_count": null,
   "id": "8b4358a0",
   "metadata": {},
   "outputs": [],
   "source": [
    "corr_coeff = np.corrcoef(all_data, rowvar=False)\n",
    "\n",
    "fig, ax = plt.subplots(1, 1)\n",
    "ih = ax.imshow(corr_coeff, cmap=cm.coolwarm, vmin=-1, vmax=1)\n",
    "ax.set(xticks=range(9), yticks=range(9), yticklabels=all_labels);\n",
    "ax.set_xticklabels(all_labels, rotation=90);\n",
    "fig.colorbar(ih);"
   ]
  },
  {
   "cell_type": "code",
   "execution_count": null,
   "id": "cc9c675e",
   "metadata": {},
   "outputs": [],
   "source": [
    "fig, ax = plt.subplots(1, 1)\n",
    "sh = ax.scatter(X[:, 6], X[:, 7], s=20, c=y, cmap=cm.coolwarm, alpha=0.5)\n",
    "ax.set(xlabel='Latitude', ylabel='Longitude');\n",
    "fig.colorbar(sh, label='Median house value')"
   ]
  },
  {
   "cell_type": "code",
   "execution_count": null,
   "id": "db6c4ce3",
   "metadata": {},
   "outputs": [],
   "source": [
    "X_train, X_test, y_train, y_test = train_test_split(X, y, test_size=0.2, random_state=1)\n",
    "\n",
    "# Define alpha (regularization) values to try\n",
    "alpha_vals = np.logspace(-4, 3, 8)\n",
    "\n",
    "# Use a ridge regression model with built in cross-validation\n",
    "ridge_reg_cv = RidgeCV(fit_intercept=True, alphas=alpha_vals, cv=None, store_cv_values=True)\n",
    "ridge_reg_cv.fit(X_train, y_train)\n",
    "y_hat_train = ridge_reg_cv.predict(X_train)\n",
    "y_hat_test = ridge_reg_cv.predict(X_test)\n",
    "y_hat = ridge_reg_cv.predict(X)\n",
    "\n",
    "# Visualize what we have\n",
    "fig, ax = plt.subplots(1, 1)\n",
    "ax.plot(y_train, y_hat_train, '.', alpha=0.25, label='Train')\n",
    "ax.plot(y_test, y_hat_test, '.', alpha=0.25, label='Test')\n",
    "ax.plot([0, 5], [0, 5], 'k:')\n",
    "ax.set(xlabel='$y$', ylabel='$\\hat{y}$');\n",
    "ax.legend()"
   ]
  },
  {
   "cell_type": "code",
   "execution_count": null,
   "id": "1934c25e",
   "metadata": {},
   "outputs": [],
   "source": [
    "fig, ax = plt.subplots(1, 1)\n",
    "ax.plot(ridge_reg_cv.alphas, ridge_reg_cv.cv_values_.mean(axis=0).flatten(), 'o-', alpha=0.5)\n",
    "ax.set(xscale='log', xlabel='alpha', ylabel='MSE');"
   ]
  },
  {
   "cell_type": "code",
   "execution_count": null,
   "id": "527148bf",
   "metadata": {},
   "outputs": [],
   "source": [
    "fig, ax = plt.subplots(1, 1)\n",
    "sh = ax.scatter(X[:, 6], X[:, 7], s=20, c=y-y_hat, cmap=cm.coolwarm, alpha=0.5)\n",
    "ax.set(xlabel='Latitude', ylabel='Longitude');\n",
    "fig.colorbar(sh, label='$y-\\hat{y}$')"
   ]
  },
  {
   "cell_type": "code",
   "execution_count": null,
   "id": "35b27687",
   "metadata": {},
   "outputs": [],
   "source": [
    "# Create a figure window\n",
    "fig = plt.figure(figsize=[14, 4])\n",
    "\n",
    "\n",
    "ax = fig.add_subplot(1, 2, 1)\n",
    "ax.plot(X[:, 1], y, 'o', alpha=0.1)\n",
    "ax.set(xlabel=all_labels[1], ylabel=all_labels[-1])\n",
    "\n",
    "ax = fig.add_subplot(1, 2, 2)\n",
    "ax.plot(X[:, 2], y, 'o', alpha=0.25)\n",
    "ax.set(xlabel=all_labels[2], ylabel=all_labels[-1])"
   ]
  },
  {
   "cell_type": "code",
   "execution_count": null,
   "id": "fdc8f253",
   "metadata": {},
   "outputs": [],
   "source": [
    "remove = y.flatten() == y.max()\n",
    "remove += X[:, 1] == X[:, 1].max()\n",
    "remove += X[:, 2] > 10\n",
    "remove_rows = np.where(remove)[0]\n",
    "\n",
    "X_cleaned = np.delete(X, remove_rows, axis=0)\n",
    "y_cleaned = np.delete(y, remove_rows, axis=0)"
   ]
  },
  {
   "cell_type": "code",
   "execution_count": null,
   "id": "33b7e560",
   "metadata": {},
   "outputs": [],
   "source": [
    "# Create a figure window\n",
    "fig = plt.figure(figsize=[14, 4])\n",
    "\n",
    "ax = fig.add_subplot(1, 2, 1)\n",
    "ax.plot(X_cleaned[:, 1], y_cleaned, 'o', alpha=0.1)\n",
    "ax.set(xlabel=all_labels[1], ylabel=all_labels[-1])\n",
    "\n",
    "ax = fig.add_subplot(1, 2, 2)\n",
    "ax.plot(X_cleaned[:, 2], y_cleaned, 'o', alpha=0.1)\n",
    "ax.set(xlabel=all_labels[2], ylabel=all_labels[-1])"
   ]
  },
  {
   "cell_type": "code",
   "execution_count": null,
   "id": "1c08197e",
   "metadata": {},
   "outputs": [],
   "source": [
    "X_train, X_test, y_train, y_test = train_test_split(X_cleaned, y_cleaned, test_size=0.2, random_state=1)\n",
    "\n",
    "# Define alpha (regularization) values to try\n",
    "alpha_vals = np.logspace(-4, 3, 8)\n",
    "\n",
    "# Use a ridge regression model with built in cross-validation\n",
    "ridge_reg_cv = RidgeCV(fit_intercept=True, alphas=alpha_vals, cv=None, store_cv_values=True)\n",
    "ridge_reg_cv.fit(X_train, y_train)\n",
    "y_hat_train = ridge_reg_cv.predict(X_train)\n",
    "y_hat_test = ridge_reg_cv.predict(X_test)\n",
    "y_hat = ridge_reg_cv.predict(X)\n",
    "\n",
    "# Visualize what we have\n",
    "fig, ax = plt.subplots(1, 1)\n",
    "ax.plot(y_train, y_hat_train, '.', alpha=0.25, label='Train')\n",
    "ax.plot(y_test, y_hat_test, '.', alpha=0.25, label='Test')\n",
    "ax.plot([0, 5], [0, 5], 'k:')\n",
    "ax.set(xlabel='$y$', ylabel='$\\hat{y}$');\n",
    "ax.legend();"
   ]
  }
 ],
 "metadata": {
  "kernelspec": {
   "display_name": "Python 3",
   "language": "python",
   "name": "python3"
  },
  "language_info": {
   "codemirror_mode": {
    "name": "ipython",
    "version": 3
   },
   "file_extension": ".py",
   "mimetype": "text/x-python",
   "name": "python",
   "nbconvert_exporter": "python",
   "pygments_lexer": "ipython3",
   "version": "3.8.8"
  }
 },
 "nbformat": 4,
 "nbformat_minor": 5
}
