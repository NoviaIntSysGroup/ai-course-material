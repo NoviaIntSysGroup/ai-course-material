{
 "cells": [
  {
   "cell_type": "code",
   "execution_count": null,
   "id": "792e42fb",
   "metadata": {},
   "outputs": [],
   "source": [
    "%matplotlib inline\n",
    "import numpy as np\n",
    "import matplotlib.pyplot as plt\n",
    "from sklearn.linear_model import LogisticRegression\n",
    "from matplotlib import cm\n",
    "from matplotlib.colors import ListedColormap\n",
    "# Only use this if running the notebook on your local machine\n",
    "#plt.style.use('notebook.mplstyle')\n",
    "colors = plt.get_cmap(\"tab10\")\n",
    "# Define my own colormap\n",
    "gray = 0.75\n",
    "red = np.hstack([np.linspace(colors(0)[0], gray, 128), np.linspace(gray, colors(1)[0], 127)])\n",
    "green = np.hstack([np.linspace(colors(0)[1], gray, 128), np.linspace(gray, colors(1)[1], 127)])\n",
    "blue = np.hstack([np.linspace(colors(0)[2], gray, 128), np.linspace(gray, colors(1)[2], 127)])\n",
    "rgb = np.vstack([red, green, blue]).T\n",
    "my_cmap = ListedColormap(rgb)"
   ]
  },
  {
   "cell_type": "code",
   "execution_count": null,
   "id": "2f4b1e37",
   "metadata": {},
   "outputs": [],
   "source": [
    "n_per_class = 20\n",
    "mu_class1 = -1\n",
    "mu_class2 = 2\n",
    "x_class1 =  np.random.randn(n_per_class, 1) + mu_class1\n",
    "x_class2 =  np.random.randn(n_per_class, 1) + mu_class2\n",
    "\n",
    "X = np.vstack([x_class1, x_class2])\n",
    "y = np.vstack([np.zeros([n_per_class, 1]), np.ones([n_per_class, 1])])\n",
    "\n",
    "# Model parameters (Try changing these)\n",
    "w0 = -2\n",
    "w1 = 2\n",
    "\n",
    "# Model prediction\n",
    "x_dense = np.linspace(mu_class1-2, mu_class2+2, 101)\n",
    "z = w1*x_dense + w0\n",
    "y_hat = 1 / (1 + np.exp(-z))\n",
    "\n",
    "# Visualize what we have\n",
    "fig, ax = plt.subplots(1, 1)\n",
    "ax.plot(X[y==0], y[y==0], 'o', alpha=0.5, label='Class 1')\n",
    "ax.plot(X[y==1], y[y==1], 'o', alpha=0.5, label='Class 2')\n",
    "ax.plot(x_dense, y_hat, 'k-', label='Log. reg.')\n",
    "#ax.plot(x_dense, z, color=0.5*np.ones(3), label='Lin. reg.')\n",
    "ax.set(xlabel='x', ylabel='y; P(class=2)');\n",
    "ax.legend();"
   ]
  },
  {
   "cell_type": "code",
   "execution_count": null,
   "id": "889870de",
   "metadata": {},
   "outputs": [],
   "source": [
    "x_class1_2d =  np.random.randn(n_per_class, 2) + mu_class1\n",
    "x_class2_2d =  np.random.randn(n_per_class, 2) + mu_class2\n",
    "X_2d = np.vstack([x_class1_2d, x_class2_2d])\n",
    "\n",
    "# Model parameters (Try changing these)\n",
    "w0 = -1.2\n",
    "w1 = 1.45\n",
    "w2 = 1.26\n",
    "\n",
    "# Model prediction\n",
    "x_grid = np.linspace(mu_class1-3, mu_class2+3, 51)\n",
    "X1, X2 = np.meshgrid(x_grid, x_grid)\n",
    "z = w1*X1 + w2*X2 + w0\n",
    "y_hat_2d = 1 / (1 + np.exp(-z))\n",
    "\n",
    "# Visualize what we have\n",
    "fig = plt.figure(figsize=[8, 6])\n",
    "ax = fig.add_subplot(1, 1, 1, projection='3d')\n",
    "ax.plot(X_2d[y.flatten()==0, 0], X_2d[y.flatten()==0, 1], y[y==0], 'o', alpha=0.5, label='Class 1')\n",
    "ax.plot(X_2d[y.flatten()==1, 0], X_2d[y.flatten()==1, 1], y[y==1], 'o', alpha=0.5, label='Class 2')\n",
    "ax.plot_surface(X1, X2, y_hat_2d, cmap=my_cmap, alpha=0.5)\n",
    "ax.set(xlabel='$x_1$', ylabel='$x_2$', zlabel='y; P(class=2)');\n",
    "ax.legend();\n",
    "ax.view_init(azim=-60, elev=20.)"
   ]
  },
  {
   "cell_type": "code",
   "execution_count": null,
   "id": "6cf77cf3",
   "metadata": {},
   "outputs": [],
   "source": [
    "log_reg = LogisticRegression(C=1, fit_intercept=True)\n",
    "log_reg.fit(X_2d, y.flatten())\n",
    "\n",
    "X_grid = np.stack([X1.flatten(), X2.flatten()]).T\n",
    "y_hat_grid = log_reg.predict_proba(X_grid)[:, 1]\n",
    "\n",
    "# Visualize what we have\n",
    "fig, ax = plt.subplots(1, 1)\n",
    "ch = ax.contourf(X1, X2, y_hat_grid.reshape(X1.shape), 50, alpha=0.5, cmap=my_cmap)\n",
    "ax.plot(X_2d[y.flatten()==0, 0], X_2d[y.flatten()==0, 1], 'o', alpha=0.75, label='Class 1')\n",
    "ax.plot(X_2d[y.flatten()==1, 0], X_2d[y.flatten()==1, 1], 'o', alpha=0.75, label='Class 2')\n",
    "ax.set(xlabel='$x_1$', ylabel='$x_2$')\n",
    "ax.legend();\n",
    "fig.colorbar(ch, label='y; P(class=2)');\n"
   ]
  },
  {
   "cell_type": "code",
   "execution_count": null,
   "id": "59a48650",
   "metadata": {},
   "outputs": [],
   "source": []
  }
 ],
 "metadata": {
  "kernelspec": {
   "display_name": "Python 3",
   "language": "python",
   "name": "python3"
  },
  "language_info": {
   "codemirror_mode": {
    "name": "ipython",
    "version": 3
   },
   "file_extension": ".py",
   "mimetype": "text/x-python",
   "name": "python",
   "nbconvert_exporter": "python",
   "pygments_lexer": "ipython3",
   "version": "3.8.8"
  }
 },
 "nbformat": 4,
 "nbformat_minor": 5
}
