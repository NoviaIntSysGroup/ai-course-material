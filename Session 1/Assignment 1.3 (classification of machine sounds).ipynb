{
 "cells": [
  {
   "cell_type": "code",
   "execution_count": null,
   "id": "0d9e016d",
   "metadata": {},
   "outputs": [],
   "source": [
    "import numpy as np\n",
    "import matplotlib.pyplot as plt\n",
    "import pandas as pd\n",
    "from matplotlib import cm\n",
    "from sklearn.linear_model import LogisticRegressionCV\n",
    "from sklearn.model_selection import train_test_split\n",
    "from sklearn.preprocessing import StandardScaler\n",
    "from sklearn.svm import SVC\n",
    "from sklearn.metrics import confusion_matrix\n",
    "# Colab\n",
    "from google.colab import files\n",
    "uploaded = files.upload()\n",
    "# Only use this if running the notebook on your local machine\n",
    "#plt.style.use('notebook.mplstyle')"
   ]
  },
  {
   "cell_type": "markdown",
   "id": "0d3cceee",
   "metadata": {},
   "source": [
    "### Task description\n",
    "You are given a dataset containing frequency spectra computed from recorded sounds of either faulty or normal machines running at a fixed RPM setting. Your task is to train a model (e.g. logistic regression and SVM) that can detect and classify faulty machines based on their frequency spectra (characteristic sound)."
   ]
  },
  {
   "cell_type": "markdown",
   "id": "21f7fb6d",
   "metadata": {},
   "source": [
    "### Step 1: Load the data"
   ]
  },
  {
   "cell_type": "code",
   "execution_count": null,
   "id": "2cdb9773",
   "metadata": {},
   "outputs": [],
   "source": [
    "# Read the data into a pandas data frame (Colab)\n",
    "df = pd.read_csv(io.BytesIO(uploaded['Machine_sound_data.csv']), index_col=0)\n",
    "# Read the data into a pandas data frame (Local machine)\n",
    "#df = pd.read_csv('Machine_sound_data.csv', index_col=0)\n",
    "print(df.shape)\n",
    "# Show the first five rows in the csv file\n",
    "df.head()"
   ]
  },
  {
   "cell_type": "markdown",
   "id": "a5bd0b10",
   "metadata": {},
   "source": [
    "The table contains 1543 rows (data points) and 121 columns. The first column contains the fault code (0 = OK, whereas all higher numbers denote a specific fault), and the remaining columns contain the frequency spectra, with the column label denoting the frequency. We can therefore go ahead and create the data matrix $\\mathbf{X}$ and class label vector $\\mathbf{y}$ as:"
   ]
  },
  {
   "cell_type": "code",
   "execution_count": null,
   "id": "266d3ac5",
   "metadata": {},
   "outputs": [],
   "source": [
    "y = df['Fault code'].to_numpy()\n",
    "X = df.iloc[:, 1:].to_numpy()\n",
    "frequencies = [int(s) for s in df.columns[1:]]\n",
    "# Lets also verify that X and y have the expected shape\n",
    "print(y.shape)\n",
    "print(X.shape)\n",
    "# and that frequiencies contain column labels\n",
    "print(frequencies)"
   ]
  },
  {
   "cell_type": "markdown",
   "id": "91c20783",
   "metadata": {},
   "source": [
    "### Check what our data looks like"
   ]
  },
  {
   "cell_type": "code",
   "execution_count": null,
   "id": "a8f5089e",
   "metadata": {},
   "outputs": [],
   "source": [
    "# Lets plot a few spectra to see what our data looks like\n",
    "# We add the argument figsize to get a figure that is wider than the default size\n",
    "fig, ax = plt.subplots(1, 1, figsize=[15, 4])\n",
    "ax.plot(frequencies, X[0:4, :].T, '-');\n",
    "ax.set(xlabel='Frequency (Hz)', ylabel='Amplitude');"
   ]
  },
  {
   "cell_type": "markdown",
   "id": "217c1fd1",
   "metadata": {},
   "source": [
    "From the plot above, we note that the spectra has one peak around 150 Hz that dominates everything. This corresponds to the RPM (revolutions per minute) frequency that the machine is running at (10 000 / 60 = 166.7 Hz). However, we expect that the characteristic sound of faults is found other frequencies. One neat way to remove the dominance of the RPM frequency is to pre-process the data by simply taking the logarithm."
   ]
  },
  {
   "cell_type": "code",
   "execution_count": null,
   "id": "6ed4bae5",
   "metadata": {},
   "outputs": [],
   "source": [
    "X_pp = np.log10(X)\n",
    "\n",
    "# Lets plot a few spectra to see what the preprocessed data looks like\n",
    "fig, ax = plt.subplots(1, 1, figsize=[15, 4])\n",
    "ax.plot(frequencies, X_pp[0:4, :].T, '-');\n",
    "ax.set(xlabel='Frequency (Hz)', ylabel='Amplitude');"
   ]
  },
  {
   "cell_type": "markdown",
   "id": "fd077e15",
   "metadata": {},
   "source": [
    "That looks better, now it is possible to see differences in other frequencies besides just the RPM frequency. As a next step, try to get an idea of how difficult this classification problem is, that is, does normal and faulty machines appear to different spectra?"
   ]
  },
  {
   "cell_type": "code",
   "execution_count": null,
   "id": "e6327645",
   "metadata": {},
   "outputs": [],
   "source": [
    "# A straight forward comparison is to simply plot \n",
    "# normal spectra and compare these to faulty ones by eye.\n",
    "fig, ax = plt.subplots(1, 1, figsize=[15, 4])\n",
    "# Plot att normal spectra\n",
    "ax.plot(frequencies, X_pp[y==0, :].T, 'k-', alpha=0.1);\n",
    "# Plot att spectra with a specific fault code\n",
    "ax.plot(frequencies, X_pp[y==4, :].T, 'r-', alpha=0.1);\n",
    "ax.set(xlabel='Frequency (Hz)', ylabel='Amplitude');"
   ]
  },
  {
   "cell_type": "markdown",
   "id": "6cacc11d",
   "metadata": {},
   "source": [
    "Nice, some faults clearly have a spectra that deviates from what is normal. The task of the machine learning model will thus be to automatically figure out which frequencies that are relevant for detecting faulty machines and how to compute relevant features from those frequencies."
   ]
  },
  {
   "cell_type": "markdown",
   "id": "46e7ab41",
   "metadata": {},
   "source": [
    "### Step 2: divide the data into training and testing sets\n",
    "Use the pre-processed data in X_pp."
   ]
  },
  {
   "cell_type": "code",
   "execution_count": null,
   "id": "c0ecf0d6",
   "metadata": {},
   "outputs": [],
   "source": []
  },
  {
   "cell_type": "markdown",
   "id": "0741ff2b",
   "metadata": {},
   "source": [
    "### Step 3: train a model to classify spectra\n",
    "Try training a classification model, e.g., logistic regression or support vector classifier. Observe that the mean value and variance for each feature (frequency bin) is very different for this data, and consequently it will have to scaled. The default approach is to mean center and scale to unit variance using a \"StandardScaler\"."
   ]
  },
  {
   "cell_type": "code",
   "execution_count": null,
   "id": "b12c4581",
   "metadata": {},
   "outputs": [],
   "source": []
  },
  {
   "cell_type": "markdown",
   "id": "7e8156bd",
   "metadata": {},
   "source": [
    "### Step 4: evaluate how well the model performs\n",
    "Evaluate how well the model performs on the test set and check which faults that it struggles to classify correctly by computing the confusion matrix."
   ]
  },
  {
   "cell_type": "code",
   "execution_count": null,
   "id": "de4c7c9f",
   "metadata": {},
   "outputs": [],
   "source": []
  }
 ],
 "metadata": {
  "kernelspec": {
   "display_name": "Python 3",
   "language": "python",
   "name": "python3"
  },
  "language_info": {
   "codemirror_mode": {
    "name": "ipython",
    "version": 3
   },
   "file_extension": ".py",
   "mimetype": "text/x-python",
   "name": "python",
   "nbconvert_exporter": "python",
   "pygments_lexer": "ipython3",
   "version": "3.8.8"
  }
 },
 "nbformat": 4,
 "nbformat_minor": 5
}
